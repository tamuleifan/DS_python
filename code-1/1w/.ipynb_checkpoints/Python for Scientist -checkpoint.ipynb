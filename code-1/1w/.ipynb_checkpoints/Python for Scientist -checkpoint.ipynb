{
 "cells": [
  {
   "cell_type": "markdown",
   "metadata": {},
   "source": [
    "# Python for Scientists\n",
    "## - Effective Computation in Physics\n",
    "### Chapter I Introduction to the Command Line\n",
    "- command line ,or shell proveides a powerful, transparent interface between the user and the internals of a computer.\n",
    "\n",
    "- Navigation the shell\n",
    " - access shell by terminal on Linux or Git Bash on Windows.\n",
    "\n",
    "- The Shell is a Pragraming Language.\n",
    " - Shell:\n",
    "  - Can collect many operations into single entities\n",
    "  - Requires input\n",
    "  - Produces output\n",
    "  - Has variables and state\n",
    "  - Uses irratating syntas\n",
    "  - Uses special characters\n",
    " - Types of Shell\n",
    "  - bash\n",
    "  - csh\n",
    "  - tsh\n",
    "  - ksh\n",
    "  - ...\n",
    " \n",
    "- Path&pwd \n",
    " - Absolute Path: Begin at the top of filesystem.\n",
    " - Relative Path: Be Relative to current working directory\n"
   ]
  },
  {
   "cell_type": "code",
   "execution_count": 4,
   "metadata": {
    "collapsed": false
   },
   "outputs": [
    {
     "data": {
      "text/plain": [
       "u'E:\\\\data103\\\\code\\\\1w'"
      ]
     },
     "execution_count": 4,
     "metadata": {},
     "output_type": "execute_result"
    }
   ],
   "source": [
    "pwd"
   ]
  },
  {
   "cell_type": "markdown",
   "metadata": {},
   "source": [
    "- Home Directory\n",
    " - ~ shortcut for home directory\n"
   ]
  },
  {
   "cell_type": "code",
   "execution_count": 7,
   "metadata": {
    "collapsed": false
   },
   "outputs": [
    {
     "name": "stdout",
     "output_type": "stream",
     "text": [
      "C:\\Users\\Admin\n"
     ]
    }
   ],
   "source": [
    "cd ~"
   ]
  },
  {
   "cell_type": "markdown",
   "metadata": {},
   "source": [
    "- Listing Contents(ls)"
   ]
  },
  {
   "cell_type": "code",
   "execution_count": 14,
   "metadata": {
    "collapsed": false
   },
   "outputs": [
    {
     "name": "stdout",
     "output_type": "stream",
     "text": [
      " 驱动器 E 中的卷没有标签。\n",
      " 卷的序列号是 7A37-5F7D\n",
      "\n",
      " E:\\ 的目录\n",
      "\n",
      "2016/09/05  20:52    <DIR>          data103\n",
      "2016/08/27  18:47    <DIR>          Git\n",
      "2016/08/28  13:51    <DIR>          gitskills\n",
      "2016/08/27  20:22    <DIR>          Gittest\n",
      "2016/08/28  15:02    <DIR>          learngit\n",
      "2016/09/07  15:34    <DIR>          learnpython\n",
      "2016/09/05  12:49    <DIR>          openmind\n",
      "2016/08/28  14:12    <DIR>          other\n",
      "2016/09/05  13:44    <DIR>          selfpath\n",
      "               0 个文件              0 字节\n",
      "               9 个目录 296,992,096,256 可用字节\n"
     ]
    }
   ],
   "source": [
    "ls"
   ]
  },
  {
   "cell_type": "markdown",
   "metadata": {},
   "source": [
    "- changing directories(cd)"
   ]
  },
  {
   "cell_type": "code",
   "execution_count": 15,
   "metadata": {
    "collapsed": false
   },
   "outputs": [
    {
     "name": "stdout",
     "output_type": "stream",
     "text": [
      "E:\\data103\n"
     ]
    }
   ],
   "source": [
    "cd data103"
   ]
  },
  {
   "cell_type": "markdown",
   "metadata": {},
   "source": [
    "- File inspection(head and tail)\n",
    " - See the beginning or end of the file.\n",
    "  - head test.txt （windows 不可用）\n",
    "  - tail test.txt (windows 不可用）"
   ]
  },
  {
   "cell_type": "markdown",
   "metadata": {},
   "source": [
    "- Creating Files（nano, emac, vi, cat,>, and touch)\n",
    " - with GUI outside the terminal\n",
    " - with touch command \n",
    " - with cat and redirection(>)\n",
    " - with sophisticated text editor inside terminal like *nano,emacs, or vi"
   ]
  },
  {
   "cell_type": "markdown",
   "metadata": {},
   "source": [
    "- Copy and  Renaming Files(cp and mv)\n",
    " - To make a copy of a file, use *cp* command\n",
    "   - *cp <source> <destination>*\n",
    " - To move(rename) a file , use *mv* command"
   ]
  },
  {
   "cell_type": "markdown",
   "metadata": {},
   "source": [
    "- Deleting Files and Directories(rm)\n",
    " - rm delete forever\n",
    " - rm -r delete all branches of a directory tree.\n",
    " "
   ]
  },
  {
   "cell_type": "markdown",
   "metadata": {},
   "source": [
    "- Flag and Wild Cards\n",
    " - asterisk means approximately *matching everything*\n"
   ]
  },
  {
   "cell_type": "markdown",
   "metadata": {},
   "source": [
    "- Geting help\n",
    " - Reading the Manual \n",
    "   - man xxxx\n",
    " - Arguments options and varables\n",
    "  - arguments\n",
    "  - options/flags/swithes(e.g. -r) to tell the program run some predefined way.\n",
    "  - variables by double minus sign(--)\n",
    "  "
   ]
  },
  {
   "cell_type": "markdown",
   "metadata": {},
   "source": [
    "- Finding right hammer (apropos)\n",
    " - e.g. apropos \"test editor\"\n",
    " "
   ]
  },
  {
   "cell_type": "code",
   "execution_count": 40,
   "metadata": {
    "collapsed": false
   },
   "outputs": [
    {
     "ename": "SyntaxError",
     "evalue": "invalid syntax (<ipython-input-40-3bbe3ad85584>, line 1)",
     "output_type": "error",
     "traceback": [
      "\u001b[1;36m  File \u001b[1;32m\"<ipython-input-40-3bbe3ad85584>\"\u001b[1;36m, line \u001b[1;32m1\u001b[0m\n\u001b[1;33m    man man\u001b[0m\n\u001b[1;37m          ^\u001b[0m\n\u001b[1;31mSyntaxError\u001b[0m\u001b[1;31m:\u001b[0m invalid syntax\n"
     ]
    }
   ],
   "source": [
    "man man"
   ]
  },
  {
   "cell_type": "code",
   "execution_count": null,
   "metadata": {
    "collapsed": true
   },
   "outputs": [],
   "source": []
  }
 ],
 "metadata": {
  "anaconda-cloud": {},
  "kernelspec": {
   "display_name": "Python [Root]",
   "language": "python",
   "name": "Python [Root]"
  },
  "language_info": {
   "codemirror_mode": {
    "name": "ipython",
    "version": 2
   },
   "file_extension": ".py",
   "mimetype": "text/x-python",
   "name": "python",
   "nbconvert_exporter": "python",
   "pygments_lexer": "ipython2",
   "version": "2.7.12"
  }
 },
 "nbformat": 4,
 "nbformat_minor": 0
}
