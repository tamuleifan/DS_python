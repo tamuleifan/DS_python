{
 "cells": [
  {
   "cell_type": "code",
   "execution_count": 2,
   "metadata": {
    "collapsed": true
   },
   "outputs": [],
   "source": [
    "import pandas as pd\n",
    "import numpy as np\n",
    "import matplotlib.pyplot as plt"
   ]
  },
  {
   "cell_type": "code",
   "execution_count": 4,
   "metadata": {
    "collapsed": false
   },
   "outputs": [],
   "source": [
    "s = pd.Series([1, 3, 5, np.nan, 6, 8])"
   ]
  },
  {
   "cell_type": "code",
   "execution_count": 5,
   "metadata": {
    "collapsed": false
   },
   "outputs": [
    {
     "data": {
      "text/plain": [
       "0    1.0\n",
       "1    3.0\n",
       "2    5.0\n",
       "3    NaN\n",
       "4    6.0\n",
       "5    8.0\n",
       "dtype: float64"
      ]
     },
     "execution_count": 5,
     "metadata": {},
     "output_type": "execute_result"
    }
   ],
   "source": [
    "s"
   ]
  },
  {
   "cell_type": "code",
   "execution_count": 8,
   "metadata": {
    "collapsed": false
   },
   "outputs": [],
   "source": [
    "dates = pd.date_range('20170101',periods=6)"
   ]
  },
  {
   "cell_type": "code",
   "execution_count": 9,
   "metadata": {
    "collapsed": false
   },
   "outputs": [
    {
     "data": {
      "text/plain": [
       "DatetimeIndex(['2017-01-01', '2017-01-02', '2017-01-03', '2017-01-04',\n",
       "               '2017-01-05', '2017-01-06'],\n",
       "              dtype='datetime64[ns]', freq='D')"
      ]
     },
     "execution_count": 9,
     "metadata": {},
     "output_type": "execute_result"
    }
   ],
   "source": [
    "dates"
   ]
  },
  {
   "cell_type": "code",
   "execution_count": 14,
   "metadata": {
    "collapsed": false
   },
   "outputs": [],
   "source": [
    "df = pd.DataFrame(np.random.randn(6,4), index=dates, columns=list('ABCD'))"
   ]
  },
  {
   "cell_type": "code",
   "execution_count": 15,
   "metadata": {
    "collapsed": false
   },
   "outputs": [
    {
     "data": {
      "text/html": [
       "<div>\n",
       "<table border=\"1\" class=\"dataframe\">\n",
       "  <thead>\n",
       "    <tr style=\"text-align: right;\">\n",
       "      <th></th>\n",
       "      <th>A</th>\n",
       "      <th>B</th>\n",
       "      <th>C</th>\n",
       "      <th>D</th>\n",
       "    </tr>\n",
       "  </thead>\n",
       "  <tbody>\n",
       "    <tr>\n",
       "      <th>2017-01-01</th>\n",
       "      <td>0.239448</td>\n",
       "      <td>0.159255</td>\n",
       "      <td>1.097771</td>\n",
       "      <td>0.147081</td>\n",
       "    </tr>\n",
       "    <tr>\n",
       "      <th>2017-01-02</th>\n",
       "      <td>-0.619667</td>\n",
       "      <td>-0.243895</td>\n",
       "      <td>1.234833</td>\n",
       "      <td>-2.475411</td>\n",
       "    </tr>\n",
       "    <tr>\n",
       "      <th>2017-01-03</th>\n",
       "      <td>1.992757</td>\n",
       "      <td>1.232876</td>\n",
       "      <td>1.409416</td>\n",
       "      <td>-0.476250</td>\n",
       "    </tr>\n",
       "    <tr>\n",
       "      <th>2017-01-04</th>\n",
       "      <td>1.078658</td>\n",
       "      <td>-1.296685</td>\n",
       "      <td>-1.203677</td>\n",
       "      <td>-1.022669</td>\n",
       "    </tr>\n",
       "    <tr>\n",
       "      <th>2017-01-05</th>\n",
       "      <td>1.308100</td>\n",
       "      <td>0.053125</td>\n",
       "      <td>0.479236</td>\n",
       "      <td>0.626597</td>\n",
       "    </tr>\n",
       "    <tr>\n",
       "      <th>2017-01-06</th>\n",
       "      <td>-0.500059</td>\n",
       "      <td>-1.685714</td>\n",
       "      <td>0.377939</td>\n",
       "      <td>0.175256</td>\n",
       "    </tr>\n",
       "  </tbody>\n",
       "</table>\n",
       "</div>"
      ],
      "text/plain": [
       "                   A         B         C         D\n",
       "2017-01-01  0.239448  0.159255  1.097771  0.147081\n",
       "2017-01-02 -0.619667 -0.243895  1.234833 -2.475411\n",
       "2017-01-03  1.992757  1.232876  1.409416 -0.476250\n",
       "2017-01-04  1.078658 -1.296685 -1.203677 -1.022669\n",
       "2017-01-05  1.308100  0.053125  0.479236  0.626597\n",
       "2017-01-06 -0.500059 -1.685714  0.377939  0.175256"
      ]
     },
     "execution_count": 15,
     "metadata": {},
     "output_type": "execute_result"
    }
   ],
   "source": [
    "df"
   ]
  },
  {
   "cell_type": "code",
   "execution_count": 21,
   "metadata": {
    "collapsed": false
   },
   "outputs": [],
   "source": [
    "df2 = pd.DataFrame({ 'A' : 1.,\n",
    "                    'B' : pd.Timestamp('20130102'),\n",
    "                    'C' : pd.Series(1,index=list(range(4)),dtype='float32'),\n",
    "                    'D' : np.array([3] * 4,dtype='int32'),\n",
    "                    'E' : pd.Categorical([\"test\",\"train\",\"test\",\"train\"]),\n",
    "                    'F' : 'foo' })\n"
   ]
  },
  {
   "cell_type": "code",
   "execution_count": 20,
   "metadata": {
    "collapsed": false
   },
   "outputs": [
    {
     "data": {
      "text/html": [
       "<div>\n",
       "<table border=\"1\" class=\"dataframe\">\n",
       "  <thead>\n",
       "    <tr style=\"text-align: right;\">\n",
       "      <th></th>\n",
       "      <th>A</th>\n",
       "      <th>B</th>\n",
       "      <th>C</th>\n",
       "      <th>D</th>\n",
       "      <th>E</th>\n",
       "      <th>F</th>\n",
       "    </tr>\n",
       "  </thead>\n",
       "  <tbody>\n",
       "    <tr>\n",
       "      <th>0</th>\n",
       "      <td>1.0</td>\n",
       "      <td>2013-01-02</td>\n",
       "      <td>1.0</td>\n",
       "      <td>3</td>\n",
       "      <td>test</td>\n",
       "      <td>foo</td>\n",
       "    </tr>\n",
       "    <tr>\n",
       "      <th>1</th>\n",
       "      <td>1.0</td>\n",
       "      <td>2013-01-02</td>\n",
       "      <td>1.0</td>\n",
       "      <td>3</td>\n",
       "      <td>train</td>\n",
       "      <td>foo</td>\n",
       "    </tr>\n",
       "    <tr>\n",
       "      <th>2</th>\n",
       "      <td>1.0</td>\n",
       "      <td>2013-01-02</td>\n",
       "      <td>1.0</td>\n",
       "      <td>3</td>\n",
       "      <td>test</td>\n",
       "      <td>foo</td>\n",
       "    </tr>\n",
       "    <tr>\n",
       "      <th>3</th>\n",
       "      <td>1.0</td>\n",
       "      <td>2013-01-02</td>\n",
       "      <td>1.0</td>\n",
       "      <td>3</td>\n",
       "      <td>train</td>\n",
       "      <td>foo</td>\n",
       "    </tr>\n",
       "  </tbody>\n",
       "</table>\n",
       "</div>"
      ],
      "text/plain": [
       "     A          B    C  D      E    F\n",
       "0  1.0 2013-01-02  1.0  3   test  foo\n",
       "1  1.0 2013-01-02  1.0  3  train  foo\n",
       "2  1.0 2013-01-02  1.0  3   test  foo\n",
       "3  1.0 2013-01-02  1.0  3  train  foo"
      ]
     },
     "execution_count": 20,
     "metadata": {},
     "output_type": "execute_result"
    }
   ],
   "source": [
    "df2"
   ]
  },
  {
   "cell_type": "code",
   "execution_count": 23,
   "metadata": {
    "collapsed": false
   },
   "outputs": [
    {
     "data": {
      "text/plain": [
       "A           float64\n",
       "B    datetime64[ns]\n",
       "C           float32\n",
       "D             int32\n",
       "E          category\n",
       "F            object\n",
       "dtype: object"
      ]
     },
     "execution_count": 23,
     "metadata": {},
     "output_type": "execute_result"
    }
   ],
   "source": [
    "df2.dtypes"
   ]
  },
  {
   "cell_type": "code",
   "execution_count": 24,
   "metadata": {
    "collapsed": false
   },
   "outputs": [
    {
     "data": {
      "text/plain": [
       "0   2013-01-02\n",
       "1   2013-01-02\n",
       "2   2013-01-02\n",
       "3   2013-01-02\n",
       "Name: B, dtype: datetime64[ns]"
      ]
     },
     "execution_count": 24,
     "metadata": {},
     "output_type": "execute_result"
    }
   ],
   "source": [
    "df2.B"
   ]
  },
  {
   "cell_type": "code",
   "execution_count": 25,
   "metadata": {
    "collapsed": false
   },
   "outputs": [
    {
     "data": {
      "text/html": [
       "<div>\n",
       "<table border=\"1\" class=\"dataframe\">\n",
       "  <thead>\n",
       "    <tr style=\"text-align: right;\">\n",
       "      <th></th>\n",
       "      <th>A</th>\n",
       "      <th>B</th>\n",
       "      <th>C</th>\n",
       "      <th>D</th>\n",
       "    </tr>\n",
       "  </thead>\n",
       "  <tbody>\n",
       "    <tr>\n",
       "      <th>2017-01-01</th>\n",
       "      <td>0.239448</td>\n",
       "      <td>0.159255</td>\n",
       "      <td>1.097771</td>\n",
       "      <td>0.147081</td>\n",
       "    </tr>\n",
       "    <tr>\n",
       "      <th>2017-01-02</th>\n",
       "      <td>-0.619667</td>\n",
       "      <td>-0.243895</td>\n",
       "      <td>1.234833</td>\n",
       "      <td>-2.475411</td>\n",
       "    </tr>\n",
       "    <tr>\n",
       "      <th>2017-01-03</th>\n",
       "      <td>1.992757</td>\n",
       "      <td>1.232876</td>\n",
       "      <td>1.409416</td>\n",
       "      <td>-0.476250</td>\n",
       "    </tr>\n",
       "    <tr>\n",
       "      <th>2017-01-04</th>\n",
       "      <td>1.078658</td>\n",
       "      <td>-1.296685</td>\n",
       "      <td>-1.203677</td>\n",
       "      <td>-1.022669</td>\n",
       "    </tr>\n",
       "    <tr>\n",
       "      <th>2017-01-05</th>\n",
       "      <td>1.308100</td>\n",
       "      <td>0.053125</td>\n",
       "      <td>0.479236</td>\n",
       "      <td>0.626597</td>\n",
       "    </tr>\n",
       "  </tbody>\n",
       "</table>\n",
       "</div>"
      ],
      "text/plain": [
       "                   A         B         C         D\n",
       "2017-01-01  0.239448  0.159255  1.097771  0.147081\n",
       "2017-01-02 -0.619667 -0.243895  1.234833 -2.475411\n",
       "2017-01-03  1.992757  1.232876  1.409416 -0.476250\n",
       "2017-01-04  1.078658 -1.296685 -1.203677 -1.022669\n",
       "2017-01-05  1.308100  0.053125  0.479236  0.626597"
      ]
     },
     "execution_count": 25,
     "metadata": {},
     "output_type": "execute_result"
    }
   ],
   "source": [
    "df.head()"
   ]
  },
  {
   "cell_type": "code",
   "execution_count": 26,
   "metadata": {
    "collapsed": false
   },
   "outputs": [
    {
     "data": {
      "text/html": [
       "<div>\n",
       "<table border=\"1\" class=\"dataframe\">\n",
       "  <thead>\n",
       "    <tr style=\"text-align: right;\">\n",
       "      <th></th>\n",
       "      <th>A</th>\n",
       "      <th>B</th>\n",
       "      <th>C</th>\n",
       "      <th>D</th>\n",
       "    </tr>\n",
       "  </thead>\n",
       "  <tbody>\n",
       "    <tr>\n",
       "      <th>2017-01-02</th>\n",
       "      <td>-0.619667</td>\n",
       "      <td>-0.243895</td>\n",
       "      <td>1.234833</td>\n",
       "      <td>-2.475411</td>\n",
       "    </tr>\n",
       "    <tr>\n",
       "      <th>2017-01-03</th>\n",
       "      <td>1.992757</td>\n",
       "      <td>1.232876</td>\n",
       "      <td>1.409416</td>\n",
       "      <td>-0.476250</td>\n",
       "    </tr>\n",
       "    <tr>\n",
       "      <th>2017-01-04</th>\n",
       "      <td>1.078658</td>\n",
       "      <td>-1.296685</td>\n",
       "      <td>-1.203677</td>\n",
       "      <td>-1.022669</td>\n",
       "    </tr>\n",
       "    <tr>\n",
       "      <th>2017-01-05</th>\n",
       "      <td>1.308100</td>\n",
       "      <td>0.053125</td>\n",
       "      <td>0.479236</td>\n",
       "      <td>0.626597</td>\n",
       "    </tr>\n",
       "    <tr>\n",
       "      <th>2017-01-06</th>\n",
       "      <td>-0.500059</td>\n",
       "      <td>-1.685714</td>\n",
       "      <td>0.377939</td>\n",
       "      <td>0.175256</td>\n",
       "    </tr>\n",
       "  </tbody>\n",
       "</table>\n",
       "</div>"
      ],
      "text/plain": [
       "                   A         B         C         D\n",
       "2017-01-02 -0.619667 -0.243895  1.234833 -2.475411\n",
       "2017-01-03  1.992757  1.232876  1.409416 -0.476250\n",
       "2017-01-04  1.078658 -1.296685 -1.203677 -1.022669\n",
       "2017-01-05  1.308100  0.053125  0.479236  0.626597\n",
       "2017-01-06 -0.500059 -1.685714  0.377939  0.175256"
      ]
     },
     "execution_count": 26,
     "metadata": {},
     "output_type": "execute_result"
    }
   ],
   "source": [
    "df.tail()"
   ]
  },
  {
   "cell_type": "code",
   "execution_count": 27,
   "metadata": {
    "collapsed": false
   },
   "outputs": [
    {
     "data": {
      "text/plain": [
       "DatetimeIndex(['2017-01-01', '2017-01-02', '2017-01-03', '2017-01-04',\n",
       "               '2017-01-05', '2017-01-06'],\n",
       "              dtype='datetime64[ns]', freq='D')"
      ]
     },
     "execution_count": 27,
     "metadata": {},
     "output_type": "execute_result"
    }
   ],
   "source": [
    "df.index"
   ]
  },
  {
   "cell_type": "code",
   "execution_count": 28,
   "metadata": {
    "collapsed": false
   },
   "outputs": [
    {
     "data": {
      "text/plain": [
       "Index(['A', 'B', 'C', 'D'], dtype='object')"
      ]
     },
     "execution_count": 28,
     "metadata": {},
     "output_type": "execute_result"
    }
   ],
   "source": [
    "df.columns"
   ]
  },
  {
   "cell_type": "code",
   "execution_count": 29,
   "metadata": {
    "collapsed": false
   },
   "outputs": [
    {
     "data": {
      "text/plain": [
       "array([[ 0.23944842,  0.15925511,  1.09777061,  0.14708092],\n",
       "       [-0.61966703, -0.24389473,  1.23483313, -2.47541051],\n",
       "       [ 1.99275706,  1.23287551,  1.40941561, -0.47625   ],\n",
       "       [ 1.0786584 , -1.29668506, -1.20367734, -1.02266892],\n",
       "       [ 1.30810044,  0.05312461,  0.47923643,  0.62659723],\n",
       "       [-0.50005935, -1.6857139 ,  0.37793945,  0.17525635]])"
      ]
     },
     "execution_count": 29,
     "metadata": {},
     "output_type": "execute_result"
    }
   ],
   "source": [
    "df.values"
   ]
  },
  {
   "cell_type": "code",
   "execution_count": 30,
   "metadata": {
    "collapsed": false
   },
   "outputs": [
    {
     "data": {
      "text/html": [
       "<div>\n",
       "<table border=\"1\" class=\"dataframe\">\n",
       "  <thead>\n",
       "    <tr style=\"text-align: right;\">\n",
       "      <th></th>\n",
       "      <th>A</th>\n",
       "      <th>B</th>\n",
       "      <th>C</th>\n",
       "      <th>D</th>\n",
       "    </tr>\n",
       "  </thead>\n",
       "  <tbody>\n",
       "    <tr>\n",
       "      <th>count</th>\n",
       "      <td>6.000000</td>\n",
       "      <td>6.000000</td>\n",
       "      <td>6.000000</td>\n",
       "      <td>6.000000</td>\n",
       "    </tr>\n",
       "    <tr>\n",
       "      <th>mean</th>\n",
       "      <td>0.583206</td>\n",
       "      <td>-0.296840</td>\n",
       "      <td>0.565920</td>\n",
       "      <td>-0.504232</td>\n",
       "    </tr>\n",
       "    <tr>\n",
       "      <th>std</th>\n",
       "      <td>1.048458</td>\n",
       "      <td>1.058489</td>\n",
       "      <td>0.960845</td>\n",
       "      <td>1.124259</td>\n",
       "    </tr>\n",
       "    <tr>\n",
       "      <th>min</th>\n",
       "      <td>-0.619667</td>\n",
       "      <td>-1.685714</td>\n",
       "      <td>-1.203677</td>\n",
       "      <td>-2.475411</td>\n",
       "    </tr>\n",
       "    <tr>\n",
       "      <th>25%</th>\n",
       "      <td>-0.315182</td>\n",
       "      <td>-1.033487</td>\n",
       "      <td>0.403264</td>\n",
       "      <td>-0.886064</td>\n",
       "    </tr>\n",
       "    <tr>\n",
       "      <th>50%</th>\n",
       "      <td>0.659053</td>\n",
       "      <td>-0.095385</td>\n",
       "      <td>0.788504</td>\n",
       "      <td>-0.164585</td>\n",
       "    </tr>\n",
       "    <tr>\n",
       "      <th>75%</th>\n",
       "      <td>1.250740</td>\n",
       "      <td>0.132722</td>\n",
       "      <td>1.200567</td>\n",
       "      <td>0.168212</td>\n",
       "    </tr>\n",
       "    <tr>\n",
       "      <th>max</th>\n",
       "      <td>1.992757</td>\n",
       "      <td>1.232876</td>\n",
       "      <td>1.409416</td>\n",
       "      <td>0.626597</td>\n",
       "    </tr>\n",
       "  </tbody>\n",
       "</table>\n",
       "</div>"
      ],
      "text/plain": [
       "              A         B         C         D\n",
       "count  6.000000  6.000000  6.000000  6.000000\n",
       "mean   0.583206 -0.296840  0.565920 -0.504232\n",
       "std    1.048458  1.058489  0.960845  1.124259\n",
       "min   -0.619667 -1.685714 -1.203677 -2.475411\n",
       "25%   -0.315182 -1.033487  0.403264 -0.886064\n",
       "50%    0.659053 -0.095385  0.788504 -0.164585\n",
       "75%    1.250740  0.132722  1.200567  0.168212\n",
       "max    1.992757  1.232876  1.409416  0.626597"
      ]
     },
     "execution_count": 30,
     "metadata": {},
     "output_type": "execute_result"
    }
   ],
   "source": [
    "df.describe()"
   ]
  },
  {
   "cell_type": "code",
   "execution_count": 31,
   "metadata": {
    "collapsed": false
   },
   "outputs": [
    {
     "data": {
      "text/html": [
       "<div>\n",
       "<table border=\"1\" class=\"dataframe\">\n",
       "  <thead>\n",
       "    <tr style=\"text-align: right;\">\n",
       "      <th></th>\n",
       "      <th>2017-01-01 00:00:00</th>\n",
       "      <th>2017-01-02 00:00:00</th>\n",
       "      <th>2017-01-03 00:00:00</th>\n",
       "      <th>2017-01-04 00:00:00</th>\n",
       "      <th>2017-01-05 00:00:00</th>\n",
       "      <th>2017-01-06 00:00:00</th>\n",
       "    </tr>\n",
       "  </thead>\n",
       "  <tbody>\n",
       "    <tr>\n",
       "      <th>A</th>\n",
       "      <td>0.239448</td>\n",
       "      <td>-0.619667</td>\n",
       "      <td>1.992757</td>\n",
       "      <td>1.078658</td>\n",
       "      <td>1.308100</td>\n",
       "      <td>-0.500059</td>\n",
       "    </tr>\n",
       "    <tr>\n",
       "      <th>B</th>\n",
       "      <td>0.159255</td>\n",
       "      <td>-0.243895</td>\n",
       "      <td>1.232876</td>\n",
       "      <td>-1.296685</td>\n",
       "      <td>0.053125</td>\n",
       "      <td>-1.685714</td>\n",
       "    </tr>\n",
       "    <tr>\n",
       "      <th>C</th>\n",
       "      <td>1.097771</td>\n",
       "      <td>1.234833</td>\n",
       "      <td>1.409416</td>\n",
       "      <td>-1.203677</td>\n",
       "      <td>0.479236</td>\n",
       "      <td>0.377939</td>\n",
       "    </tr>\n",
       "    <tr>\n",
       "      <th>D</th>\n",
       "      <td>0.147081</td>\n",
       "      <td>-2.475411</td>\n",
       "      <td>-0.476250</td>\n",
       "      <td>-1.022669</td>\n",
       "      <td>0.626597</td>\n",
       "      <td>0.175256</td>\n",
       "    </tr>\n",
       "  </tbody>\n",
       "</table>\n",
       "</div>"
      ],
      "text/plain": [
       "   2017-01-01  2017-01-02  2017-01-03  2017-01-04  2017-01-05  2017-01-06\n",
       "A    0.239448   -0.619667    1.992757    1.078658    1.308100   -0.500059\n",
       "B    0.159255   -0.243895    1.232876   -1.296685    0.053125   -1.685714\n",
       "C    1.097771    1.234833    1.409416   -1.203677    0.479236    0.377939\n",
       "D    0.147081   -2.475411   -0.476250   -1.022669    0.626597    0.175256"
      ]
     },
     "execution_count": 31,
     "metadata": {},
     "output_type": "execute_result"
    }
   ],
   "source": [
    "df.T"
   ]
  },
  {
   "cell_type": "code",
   "execution_count": 32,
   "metadata": {
    "collapsed": true
   },
   "outputs": [],
   "source": [
    "df.sort_index?"
   ]
  },
  {
   "cell_type": "code",
   "execution_count": 35,
   "metadata": {
    "collapsed": false
   },
   "outputs": [
    {
     "data": {
      "text/html": [
       "<div>\n",
       "<table border=\"1\" class=\"dataframe\">\n",
       "  <thead>\n",
       "    <tr style=\"text-align: right;\">\n",
       "      <th></th>\n",
       "      <th>D</th>\n",
       "      <th>C</th>\n",
       "      <th>B</th>\n",
       "      <th>A</th>\n",
       "    </tr>\n",
       "  </thead>\n",
       "  <tbody>\n",
       "    <tr>\n",
       "      <th>2017-01-01</th>\n",
       "      <td>0.147081</td>\n",
       "      <td>1.097771</td>\n",
       "      <td>0.159255</td>\n",
       "      <td>0.239448</td>\n",
       "    </tr>\n",
       "    <tr>\n",
       "      <th>2017-01-02</th>\n",
       "      <td>-2.475411</td>\n",
       "      <td>1.234833</td>\n",
       "      <td>-0.243895</td>\n",
       "      <td>-0.619667</td>\n",
       "    </tr>\n",
       "    <tr>\n",
       "      <th>2017-01-03</th>\n",
       "      <td>-0.476250</td>\n",
       "      <td>1.409416</td>\n",
       "      <td>1.232876</td>\n",
       "      <td>1.992757</td>\n",
       "    </tr>\n",
       "    <tr>\n",
       "      <th>2017-01-04</th>\n",
       "      <td>-1.022669</td>\n",
       "      <td>-1.203677</td>\n",
       "      <td>-1.296685</td>\n",
       "      <td>1.078658</td>\n",
       "    </tr>\n",
       "    <tr>\n",
       "      <th>2017-01-05</th>\n",
       "      <td>0.626597</td>\n",
       "      <td>0.479236</td>\n",
       "      <td>0.053125</td>\n",
       "      <td>1.308100</td>\n",
       "    </tr>\n",
       "    <tr>\n",
       "      <th>2017-01-06</th>\n",
       "      <td>0.175256</td>\n",
       "      <td>0.377939</td>\n",
       "      <td>-1.685714</td>\n",
       "      <td>-0.500059</td>\n",
       "    </tr>\n",
       "  </tbody>\n",
       "</table>\n",
       "</div>"
      ],
      "text/plain": [
       "                   D         C         B         A\n",
       "2017-01-01  0.147081  1.097771  0.159255  0.239448\n",
       "2017-01-02 -2.475411  1.234833 -0.243895 -0.619667\n",
       "2017-01-03 -0.476250  1.409416  1.232876  1.992757\n",
       "2017-01-04 -1.022669 -1.203677 -1.296685  1.078658\n",
       "2017-01-05  0.626597  0.479236  0.053125  1.308100\n",
       "2017-01-06  0.175256  0.377939 -1.685714 -0.500059"
      ]
     },
     "execution_count": 35,
     "metadata": {},
     "output_type": "execute_result"
    }
   ],
   "source": [
    "df.sort_index(axis=1, ascending=False)"
   ]
  },
  {
   "cell_type": "code",
   "execution_count": 37,
   "metadata": {
    "collapsed": false
   },
   "outputs": [],
   "source": [
    "df.sort_values?"
   ]
  },
  {
   "cell_type": "code",
   "execution_count": 38,
   "metadata": {
    "collapsed": false
   },
   "outputs": [
    {
     "data": {
      "text/html": [
       "<div>\n",
       "<table border=\"1\" class=\"dataframe\">\n",
       "  <thead>\n",
       "    <tr style=\"text-align: right;\">\n",
       "      <th></th>\n",
       "      <th>A</th>\n",
       "      <th>B</th>\n",
       "      <th>C</th>\n",
       "      <th>D</th>\n",
       "    </tr>\n",
       "  </thead>\n",
       "  <tbody>\n",
       "    <tr>\n",
       "      <th>2017-01-06</th>\n",
       "      <td>-0.500059</td>\n",
       "      <td>-1.685714</td>\n",
       "      <td>0.377939</td>\n",
       "      <td>0.175256</td>\n",
       "    </tr>\n",
       "    <tr>\n",
       "      <th>2017-01-04</th>\n",
       "      <td>1.078658</td>\n",
       "      <td>-1.296685</td>\n",
       "      <td>-1.203677</td>\n",
       "      <td>-1.022669</td>\n",
       "    </tr>\n",
       "    <tr>\n",
       "      <th>2017-01-02</th>\n",
       "      <td>-0.619667</td>\n",
       "      <td>-0.243895</td>\n",
       "      <td>1.234833</td>\n",
       "      <td>-2.475411</td>\n",
       "    </tr>\n",
       "    <tr>\n",
       "      <th>2017-01-05</th>\n",
       "      <td>1.308100</td>\n",
       "      <td>0.053125</td>\n",
       "      <td>0.479236</td>\n",
       "      <td>0.626597</td>\n",
       "    </tr>\n",
       "    <tr>\n",
       "      <th>2017-01-01</th>\n",
       "      <td>0.239448</td>\n",
       "      <td>0.159255</td>\n",
       "      <td>1.097771</td>\n",
       "      <td>0.147081</td>\n",
       "    </tr>\n",
       "    <tr>\n",
       "      <th>2017-01-03</th>\n",
       "      <td>1.992757</td>\n",
       "      <td>1.232876</td>\n",
       "      <td>1.409416</td>\n",
       "      <td>-0.476250</td>\n",
       "    </tr>\n",
       "  </tbody>\n",
       "</table>\n",
       "</div>"
      ],
      "text/plain": [
       "                   A         B         C         D\n",
       "2017-01-06 -0.500059 -1.685714  0.377939  0.175256\n",
       "2017-01-04  1.078658 -1.296685 -1.203677 -1.022669\n",
       "2017-01-02 -0.619667 -0.243895  1.234833 -2.475411\n",
       "2017-01-05  1.308100  0.053125  0.479236  0.626597\n",
       "2017-01-01  0.239448  0.159255  1.097771  0.147081\n",
       "2017-01-03  1.992757  1.232876  1.409416 -0.476250"
      ]
     },
     "execution_count": 38,
     "metadata": {},
     "output_type": "execute_result"
    }
   ],
   "source": [
    "df.sort_values(by='B')"
   ]
  },
  {
   "cell_type": "code",
   "execution_count": 39,
   "metadata": {
    "collapsed": false
   },
   "outputs": [
    {
     "data": {
      "text/plain": [
       "2017-01-01    0.239448\n",
       "2017-01-02   -0.619667\n",
       "2017-01-03    1.992757\n",
       "2017-01-04    1.078658\n",
       "2017-01-05    1.308100\n",
       "2017-01-06   -0.500059\n",
       "Freq: D, Name: A, dtype: float64"
      ]
     },
     "execution_count": 39,
     "metadata": {},
     "output_type": "execute_result"
    }
   ],
   "source": [
    "df['A']"
   ]
  },
  {
   "cell_type": "code",
   "execution_count": 40,
   "metadata": {
    "collapsed": false
   },
   "outputs": [
    {
     "data": {
      "text/html": [
       "<div>\n",
       "<table border=\"1\" class=\"dataframe\">\n",
       "  <thead>\n",
       "    <tr style=\"text-align: right;\">\n",
       "      <th></th>\n",
       "      <th>A</th>\n",
       "      <th>B</th>\n",
       "      <th>C</th>\n",
       "      <th>D</th>\n",
       "    </tr>\n",
       "  </thead>\n",
       "  <tbody>\n",
       "    <tr>\n",
       "      <th>2017-01-01</th>\n",
       "      <td>0.239448</td>\n",
       "      <td>0.159255</td>\n",
       "      <td>1.097771</td>\n",
       "      <td>0.147081</td>\n",
       "    </tr>\n",
       "    <tr>\n",
       "      <th>2017-01-02</th>\n",
       "      <td>-0.619667</td>\n",
       "      <td>-0.243895</td>\n",
       "      <td>1.234833</td>\n",
       "      <td>-2.475411</td>\n",
       "    </tr>\n",
       "    <tr>\n",
       "      <th>2017-01-03</th>\n",
       "      <td>1.992757</td>\n",
       "      <td>1.232876</td>\n",
       "      <td>1.409416</td>\n",
       "      <td>-0.476250</td>\n",
       "    </tr>\n",
       "  </tbody>\n",
       "</table>\n",
       "</div>"
      ],
      "text/plain": [
       "                   A         B         C         D\n",
       "2017-01-01  0.239448  0.159255  1.097771  0.147081\n",
       "2017-01-02 -0.619667 -0.243895  1.234833 -2.475411\n",
       "2017-01-03  1.992757  1.232876  1.409416 -0.476250"
      ]
     },
     "execution_count": 40,
     "metadata": {},
     "output_type": "execute_result"
    }
   ],
   "source": [
    "df[0:3]"
   ]
  },
  {
   "cell_type": "code",
   "execution_count": 41,
   "metadata": {
    "collapsed": false
   },
   "outputs": [
    {
     "data": {
      "text/html": [
       "<div>\n",
       "<table border=\"1\" class=\"dataframe\">\n",
       "  <thead>\n",
       "    <tr style=\"text-align: right;\">\n",
       "      <th></th>\n",
       "      <th>A</th>\n",
       "      <th>B</th>\n",
       "      <th>C</th>\n",
       "      <th>D</th>\n",
       "    </tr>\n",
       "  </thead>\n",
       "  <tbody>\n",
       "    <tr>\n",
       "      <th>2017-01-02</th>\n",
       "      <td>-0.619667</td>\n",
       "      <td>-0.243895</td>\n",
       "      <td>1.234833</td>\n",
       "      <td>-2.475411</td>\n",
       "    </tr>\n",
       "    <tr>\n",
       "      <th>2017-01-03</th>\n",
       "      <td>1.992757</td>\n",
       "      <td>1.232876</td>\n",
       "      <td>1.409416</td>\n",
       "      <td>-0.476250</td>\n",
       "    </tr>\n",
       "    <tr>\n",
       "      <th>2017-01-04</th>\n",
       "      <td>1.078658</td>\n",
       "      <td>-1.296685</td>\n",
       "      <td>-1.203677</td>\n",
       "      <td>-1.022669</td>\n",
       "    </tr>\n",
       "  </tbody>\n",
       "</table>\n",
       "</div>"
      ],
      "text/plain": [
       "                   A         B         C         D\n",
       "2017-01-02 -0.619667 -0.243895  1.234833 -2.475411\n",
       "2017-01-03  1.992757  1.232876  1.409416 -0.476250\n",
       "2017-01-04  1.078658 -1.296685 -1.203677 -1.022669"
      ]
     },
     "execution_count": 41,
     "metadata": {},
     "output_type": "execute_result"
    }
   ],
   "source": [
    "df['2017-01-02':'2017-01-04']"
   ]
  },
  {
   "cell_type": "code",
   "execution_count": 43,
   "metadata": {
    "collapsed": false
   },
   "outputs": [
    {
     "data": {
      "text/plain": [
       "A    0.239448\n",
       "B    0.159255\n",
       "C    1.097771\n",
       "D    0.147081\n",
       "Name: 2017-01-01 00:00:00, dtype: float64"
      ]
     },
     "execution_count": 43,
     "metadata": {},
     "output_type": "execute_result"
    }
   ],
   "source": [
    "df.loc[dates[0]]"
   ]
  },
  {
   "cell_type": "code",
   "execution_count": 44,
   "metadata": {
    "collapsed": false
   },
   "outputs": [
    {
     "data": {
      "text/html": [
       "<div>\n",
       "<table border=\"1\" class=\"dataframe\">\n",
       "  <thead>\n",
       "    <tr style=\"text-align: right;\">\n",
       "      <th></th>\n",
       "      <th>A</th>\n",
       "      <th>B</th>\n",
       "    </tr>\n",
       "  </thead>\n",
       "  <tbody>\n",
       "    <tr>\n",
       "      <th>2017-01-01</th>\n",
       "      <td>0.239448</td>\n",
       "      <td>0.159255</td>\n",
       "    </tr>\n",
       "    <tr>\n",
       "      <th>2017-01-02</th>\n",
       "      <td>-0.619667</td>\n",
       "      <td>-0.243895</td>\n",
       "    </tr>\n",
       "    <tr>\n",
       "      <th>2017-01-03</th>\n",
       "      <td>1.992757</td>\n",
       "      <td>1.232876</td>\n",
       "    </tr>\n",
       "    <tr>\n",
       "      <th>2017-01-04</th>\n",
       "      <td>1.078658</td>\n",
       "      <td>-1.296685</td>\n",
       "    </tr>\n",
       "    <tr>\n",
       "      <th>2017-01-05</th>\n",
       "      <td>1.308100</td>\n",
       "      <td>0.053125</td>\n",
       "    </tr>\n",
       "    <tr>\n",
       "      <th>2017-01-06</th>\n",
       "      <td>-0.500059</td>\n",
       "      <td>-1.685714</td>\n",
       "    </tr>\n",
       "  </tbody>\n",
       "</table>\n",
       "</div>"
      ],
      "text/plain": [
       "                   A         B\n",
       "2017-01-01  0.239448  0.159255\n",
       "2017-01-02 -0.619667 -0.243895\n",
       "2017-01-03  1.992757  1.232876\n",
       "2017-01-04  1.078658 -1.296685\n",
       "2017-01-05  1.308100  0.053125\n",
       "2017-01-06 -0.500059 -1.685714"
      ]
     },
     "execution_count": 44,
     "metadata": {},
     "output_type": "execute_result"
    }
   ],
   "source": [
    "df.loc[:,['A','B']]"
   ]
  },
  {
   "cell_type": "code",
   "execution_count": 45,
   "metadata": {
    "collapsed": false,
    "scrolled": true
   },
   "outputs": [
    {
     "data": {
      "text/html": [
       "<div>\n",
       "<table border=\"1\" class=\"dataframe\">\n",
       "  <thead>\n",
       "    <tr style=\"text-align: right;\">\n",
       "      <th></th>\n",
       "      <th>B</th>\n",
       "      <th>C</th>\n",
       "    </tr>\n",
       "  </thead>\n",
       "  <tbody>\n",
       "    <tr>\n",
       "      <th>2017-01-04</th>\n",
       "      <td>-1.296685</td>\n",
       "      <td>-1.203677</td>\n",
       "    </tr>\n",
       "    <tr>\n",
       "      <th>2017-01-05</th>\n",
       "      <td>0.053125</td>\n",
       "      <td>0.479236</td>\n",
       "    </tr>\n",
       "  </tbody>\n",
       "</table>\n",
       "</div>"
      ],
      "text/plain": [
       "                   B         C\n",
       "2017-01-04 -1.296685 -1.203677\n",
       "2017-01-05  0.053125  0.479236"
      ]
     },
     "execution_count": 45,
     "metadata": {},
     "output_type": "execute_result"
    }
   ],
   "source": [
    "df.iloc[3:5,1:3]"
   ]
  },
  {
   "cell_type": "code",
   "execution_count": 48,
   "metadata": {
    "collapsed": false
   },
   "outputs": [
    {
     "data": {
      "text/html": [
       "<div>\n",
       "<table border=\"1\" class=\"dataframe\">\n",
       "  <thead>\n",
       "    <tr style=\"text-align: right;\">\n",
       "      <th></th>\n",
       "      <th>A</th>\n",
       "      <th>B</th>\n",
       "      <th>C</th>\n",
       "      <th>D</th>\n",
       "    </tr>\n",
       "  </thead>\n",
       "  <tbody>\n",
       "    <tr>\n",
       "      <th>2017-01-01</th>\n",
       "      <td>0.239448</td>\n",
       "      <td>0.159255</td>\n",
       "      <td>1.097771</td>\n",
       "      <td>0.147081</td>\n",
       "    </tr>\n",
       "    <tr>\n",
       "      <th>2017-01-03</th>\n",
       "      <td>1.992757</td>\n",
       "      <td>1.232876</td>\n",
       "      <td>1.409416</td>\n",
       "      <td>-0.476250</td>\n",
       "    </tr>\n",
       "    <tr>\n",
       "      <th>2017-01-04</th>\n",
       "      <td>1.078658</td>\n",
       "      <td>-1.296685</td>\n",
       "      <td>-1.203677</td>\n",
       "      <td>-1.022669</td>\n",
       "    </tr>\n",
       "    <tr>\n",
       "      <th>2017-01-05</th>\n",
       "      <td>1.308100</td>\n",
       "      <td>0.053125</td>\n",
       "      <td>0.479236</td>\n",
       "      <td>0.626597</td>\n",
       "    </tr>\n",
       "  </tbody>\n",
       "</table>\n",
       "</div>"
      ],
      "text/plain": [
       "                   A         B         C         D\n",
       "2017-01-01  0.239448  0.159255  1.097771  0.147081\n",
       "2017-01-03  1.992757  1.232876  1.409416 -0.476250\n",
       "2017-01-04  1.078658 -1.296685 -1.203677 -1.022669\n",
       "2017-01-05  1.308100  0.053125  0.479236  0.626597"
      ]
     },
     "execution_count": 48,
     "metadata": {},
     "output_type": "execute_result"
    }
   ],
   "source": [
    "df[df.A > 0]"
   ]
  },
  {
   "cell_type": "code",
   "execution_count": 49,
   "metadata": {
    "collapsed": false
   },
   "outputs": [
    {
     "data": {
      "text/html": [
       "<div>\n",
       "<table border=\"1\" class=\"dataframe\">\n",
       "  <thead>\n",
       "    <tr style=\"text-align: right;\">\n",
       "      <th></th>\n",
       "      <th>A</th>\n",
       "      <th>B</th>\n",
       "      <th>C</th>\n",
       "      <th>D</th>\n",
       "    </tr>\n",
       "  </thead>\n",
       "  <tbody>\n",
       "    <tr>\n",
       "      <th>2017-01-01</th>\n",
       "      <td>0.239448</td>\n",
       "      <td>0.159255</td>\n",
       "      <td>1.097771</td>\n",
       "      <td>0.147081</td>\n",
       "    </tr>\n",
       "    <tr>\n",
       "      <th>2017-01-02</th>\n",
       "      <td>NaN</td>\n",
       "      <td>NaN</td>\n",
       "      <td>1.234833</td>\n",
       "      <td>NaN</td>\n",
       "    </tr>\n",
       "    <tr>\n",
       "      <th>2017-01-03</th>\n",
       "      <td>1.992757</td>\n",
       "      <td>1.232876</td>\n",
       "      <td>1.409416</td>\n",
       "      <td>NaN</td>\n",
       "    </tr>\n",
       "    <tr>\n",
       "      <th>2017-01-04</th>\n",
       "      <td>1.078658</td>\n",
       "      <td>NaN</td>\n",
       "      <td>NaN</td>\n",
       "      <td>NaN</td>\n",
       "    </tr>\n",
       "    <tr>\n",
       "      <th>2017-01-05</th>\n",
       "      <td>1.308100</td>\n",
       "      <td>0.053125</td>\n",
       "      <td>0.479236</td>\n",
       "      <td>0.626597</td>\n",
       "    </tr>\n",
       "    <tr>\n",
       "      <th>2017-01-06</th>\n",
       "      <td>NaN</td>\n",
       "      <td>NaN</td>\n",
       "      <td>0.377939</td>\n",
       "      <td>0.175256</td>\n",
       "    </tr>\n",
       "  </tbody>\n",
       "</table>\n",
       "</div>"
      ],
      "text/plain": [
       "                   A         B         C         D\n",
       "2017-01-01  0.239448  0.159255  1.097771  0.147081\n",
       "2017-01-02       NaN       NaN  1.234833       NaN\n",
       "2017-01-03  1.992757  1.232876  1.409416       NaN\n",
       "2017-01-04  1.078658       NaN       NaN       NaN\n",
       "2017-01-05  1.308100  0.053125  0.479236  0.626597\n",
       "2017-01-06       NaN       NaN  0.377939  0.175256"
      ]
     },
     "execution_count": 49,
     "metadata": {},
     "output_type": "execute_result"
    }
   ],
   "source": [
    "df[df > 0]"
   ]
  },
  {
   "cell_type": "code",
   "execution_count": 50,
   "metadata": {
    "collapsed": true
   },
   "outputs": [],
   "source": [
    "df2 = df.copy()"
   ]
  },
  {
   "cell_type": "code",
   "execution_count": 52,
   "metadata": {
    "collapsed": false
   },
   "outputs": [
    {
     "data": {
      "text/html": [
       "<div>\n",
       "<table border=\"1\" class=\"dataframe\">\n",
       "  <thead>\n",
       "    <tr style=\"text-align: right;\">\n",
       "      <th></th>\n",
       "      <th>A</th>\n",
       "      <th>B</th>\n",
       "      <th>C</th>\n",
       "      <th>D</th>\n",
       "    </tr>\n",
       "  </thead>\n",
       "  <tbody>\n",
       "    <tr>\n",
       "      <th>2017-01-01</th>\n",
       "      <td>0.239448</td>\n",
       "      <td>0.159255</td>\n",
       "      <td>1.097771</td>\n",
       "      <td>0.147081</td>\n",
       "    </tr>\n",
       "    <tr>\n",
       "      <th>2017-01-02</th>\n",
       "      <td>-0.619667</td>\n",
       "      <td>-0.243895</td>\n",
       "      <td>1.234833</td>\n",
       "      <td>-2.475411</td>\n",
       "    </tr>\n",
       "    <tr>\n",
       "      <th>2017-01-03</th>\n",
       "      <td>1.992757</td>\n",
       "      <td>1.232876</td>\n",
       "      <td>1.409416</td>\n",
       "      <td>-0.476250</td>\n",
       "    </tr>\n",
       "    <tr>\n",
       "      <th>2017-01-04</th>\n",
       "      <td>1.078658</td>\n",
       "      <td>-1.296685</td>\n",
       "      <td>-1.203677</td>\n",
       "      <td>-1.022669</td>\n",
       "    </tr>\n",
       "    <tr>\n",
       "      <th>2017-01-05</th>\n",
       "      <td>1.308100</td>\n",
       "      <td>0.053125</td>\n",
       "      <td>0.479236</td>\n",
       "      <td>0.626597</td>\n",
       "    </tr>\n",
       "    <tr>\n",
       "      <th>2017-01-06</th>\n",
       "      <td>-0.500059</td>\n",
       "      <td>-1.685714</td>\n",
       "      <td>0.377939</td>\n",
       "      <td>0.175256</td>\n",
       "    </tr>\n",
       "  </tbody>\n",
       "</table>\n",
       "</div>"
      ],
      "text/plain": [
       "                   A         B         C         D\n",
       "2017-01-01  0.239448  0.159255  1.097771  0.147081\n",
       "2017-01-02 -0.619667 -0.243895  1.234833 -2.475411\n",
       "2017-01-03  1.992757  1.232876  1.409416 -0.476250\n",
       "2017-01-04  1.078658 -1.296685 -1.203677 -1.022669\n",
       "2017-01-05  1.308100  0.053125  0.479236  0.626597\n",
       "2017-01-06 -0.500059 -1.685714  0.377939  0.175256"
      ]
     },
     "execution_count": 52,
     "metadata": {},
     "output_type": "execute_result"
    }
   ],
   "source": [
    "df2"
   ]
  },
  {
   "cell_type": "code",
   "execution_count": 53,
   "metadata": {
    "collapsed": true
   },
   "outputs": [],
   "source": [
    "df2['E'] = ['one', 'one','two','three','four','three']"
   ]
  },
  {
   "cell_type": "code",
   "execution_count": 54,
   "metadata": {
    "collapsed": false
   },
   "outputs": [
    {
     "data": {
      "text/html": [
       "<div>\n",
       "<table border=\"1\" class=\"dataframe\">\n",
       "  <thead>\n",
       "    <tr style=\"text-align: right;\">\n",
       "      <th></th>\n",
       "      <th>A</th>\n",
       "      <th>B</th>\n",
       "      <th>C</th>\n",
       "      <th>D</th>\n",
       "      <th>E</th>\n",
       "    </tr>\n",
       "  </thead>\n",
       "  <tbody>\n",
       "    <tr>\n",
       "      <th>2017-01-01</th>\n",
       "      <td>0.239448</td>\n",
       "      <td>0.159255</td>\n",
       "      <td>1.097771</td>\n",
       "      <td>0.147081</td>\n",
       "      <td>one</td>\n",
       "    </tr>\n",
       "    <tr>\n",
       "      <th>2017-01-02</th>\n",
       "      <td>-0.619667</td>\n",
       "      <td>-0.243895</td>\n",
       "      <td>1.234833</td>\n",
       "      <td>-2.475411</td>\n",
       "      <td>one</td>\n",
       "    </tr>\n",
       "    <tr>\n",
       "      <th>2017-01-03</th>\n",
       "      <td>1.992757</td>\n",
       "      <td>1.232876</td>\n",
       "      <td>1.409416</td>\n",
       "      <td>-0.476250</td>\n",
       "      <td>two</td>\n",
       "    </tr>\n",
       "    <tr>\n",
       "      <th>2017-01-04</th>\n",
       "      <td>1.078658</td>\n",
       "      <td>-1.296685</td>\n",
       "      <td>-1.203677</td>\n",
       "      <td>-1.022669</td>\n",
       "      <td>three</td>\n",
       "    </tr>\n",
       "    <tr>\n",
       "      <th>2017-01-05</th>\n",
       "      <td>1.308100</td>\n",
       "      <td>0.053125</td>\n",
       "      <td>0.479236</td>\n",
       "      <td>0.626597</td>\n",
       "      <td>four</td>\n",
       "    </tr>\n",
       "    <tr>\n",
       "      <th>2017-01-06</th>\n",
       "      <td>-0.500059</td>\n",
       "      <td>-1.685714</td>\n",
       "      <td>0.377939</td>\n",
       "      <td>0.175256</td>\n",
       "      <td>three</td>\n",
       "    </tr>\n",
       "  </tbody>\n",
       "</table>\n",
       "</div>"
      ],
      "text/plain": [
       "                   A         B         C         D      E\n",
       "2017-01-01  0.239448  0.159255  1.097771  0.147081    one\n",
       "2017-01-02 -0.619667 -0.243895  1.234833 -2.475411    one\n",
       "2017-01-03  1.992757  1.232876  1.409416 -0.476250    two\n",
       "2017-01-04  1.078658 -1.296685 -1.203677 -1.022669  three\n",
       "2017-01-05  1.308100  0.053125  0.479236  0.626597   four\n",
       "2017-01-06 -0.500059 -1.685714  0.377939  0.175256  three"
      ]
     },
     "execution_count": 54,
     "metadata": {},
     "output_type": "execute_result"
    }
   ],
   "source": [
    "df2"
   ]
  },
  {
   "cell_type": "code",
   "execution_count": 59,
   "metadata": {
    "collapsed": false
   },
   "outputs": [
    {
     "data": {
      "text/html": [
       "<div>\n",
       "<table border=\"1\" class=\"dataframe\">\n",
       "  <thead>\n",
       "    <tr style=\"text-align: right;\">\n",
       "      <th></th>\n",
       "      <th>A</th>\n",
       "      <th>B</th>\n",
       "      <th>C</th>\n",
       "      <th>D</th>\n",
       "      <th>E</th>\n",
       "    </tr>\n",
       "  </thead>\n",
       "  <tbody>\n",
       "    <tr>\n",
       "      <th>2017-01-03</th>\n",
       "      <td>1.992757</td>\n",
       "      <td>1.232876</td>\n",
       "      <td>1.409416</td>\n",
       "      <td>-0.476250</td>\n",
       "      <td>two</td>\n",
       "    </tr>\n",
       "    <tr>\n",
       "      <th>2017-01-05</th>\n",
       "      <td>1.308100</td>\n",
       "      <td>0.053125</td>\n",
       "      <td>0.479236</td>\n",
       "      <td>0.626597</td>\n",
       "      <td>four</td>\n",
       "    </tr>\n",
       "  </tbody>\n",
       "</table>\n",
       "</div>"
      ],
      "text/plain": [
       "                   A         B         C         D     E\n",
       "2017-01-03  1.992757  1.232876  1.409416 -0.476250   two\n",
       "2017-01-05  1.308100  0.053125  0.479236  0.626597  four"
      ]
     },
     "execution_count": 59,
     "metadata": {},
     "output_type": "execute_result"
    }
   ],
   "source": [
    "df2[df2['E'].isin(['two','four'])]"
   ]
  },
  {
   "cell_type": "code",
   "execution_count": 57,
   "metadata": {
    "collapsed": false
   },
   "outputs": [
    {
     "ename": "SyntaxError",
     "evalue": "invalid syntax (<ipython-input-57-fb37c61ddf6d>, line 1)",
     "output_type": "error",
     "traceback": [
      "\u001b[0;36m  File \u001b[0;32m\"<ipython-input-57-fb37c61ddf6d>\"\u001b[0;36m, line \u001b[0;32m1\u001b[0m\n\u001b[0;31m    df2['E'].isin()?\u001b[0m\n\u001b[0m                   ^\u001b[0m\n\u001b[0;31mSyntaxError\u001b[0m\u001b[0;31m:\u001b[0m invalid syntax\n"
     ]
    }
   ],
   "source": [
    "df2['E'].isin()?"
   ]
  },
  {
   "cell_type": "code",
   "execution_count": 61,
   "metadata": {
    "collapsed": false
   },
   "outputs": [
    {
     "data": {
      "text/plain": [
       "2017-01-01    False\n",
       "2017-01-02    False\n",
       "2017-01-03     True\n",
       "2017-01-04    False\n",
       "2017-01-05     True\n",
       "2017-01-06    False\n",
       "Freq: D, Name: E, dtype: bool"
      ]
     },
     "execution_count": 61,
     "metadata": {},
     "output_type": "execute_result"
    }
   ],
   "source": [
    "df2['E'].isin(['two','four'])"
   ]
  },
  {
   "cell_type": "code",
   "execution_count": 62,
   "metadata": {
    "collapsed": false
   },
   "outputs": [
    {
     "data": {
      "text/plain": [
       "2017-01-01      one\n",
       "2017-01-02      one\n",
       "2017-01-03      two\n",
       "2017-01-04    three\n",
       "2017-01-05     four\n",
       "2017-01-06    three\n",
       "Freq: D, Name: E, dtype: object"
      ]
     },
     "execution_count": 62,
     "metadata": {},
     "output_type": "execute_result"
    }
   ],
   "source": [
    "df2['E']"
   ]
  }
 ],
 "metadata": {
  "kernelspec": {
   "display_name": "Python 3",
   "language": "python",
   "name": "python3"
  },
  "language_info": {
   "codemirror_mode": {
    "name": "ipython",
    "version": 3
   },
   "file_extension": ".py",
   "mimetype": "text/x-python",
   "name": "python",
   "nbconvert_exporter": "python",
   "pygments_lexer": "ipython3",
   "version": "3.6.0"
  }
 },
 "nbformat": 4,
 "nbformat_minor": 2
}
