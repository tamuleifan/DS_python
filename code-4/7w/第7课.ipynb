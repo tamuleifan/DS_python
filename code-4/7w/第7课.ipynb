{
 "cells": [
  {
   "cell_type": "markdown",
   "metadata": {},
   "source": [
    "# 第7课：线性模型"
   ]
  },
  {
   "cell_type": "code",
   "execution_count": 1,
   "metadata": {
    "collapsed": true
   },
   "outputs": [],
   "source": [
    "import statsmodels.api as sm\n",
    "import statsmodels.formula.api as smf\n",
    "import statsmodels.graphics.api as smg\n",
    "import patsy\n",
    "%matplotlib inline\n",
    "import matplotlib.pyplot as plt\n",
    "import numpy as np\n",
    "import pandas as pd\n",
    "from scipy import stats\n",
    "import seaborn as sns"
   ]
  },
  {
   "cell_type": "markdown",
   "metadata": {},
   "source": [
    "## 1.Statistical models and patsy formula"
   ]
  },
  {
   "cell_type": "code",
   "execution_count": 2,
   "metadata": {
    "collapsed": true
   },
   "outputs": [],
   "source": [
    "np.random.seed(123456789)"
   ]
  },
  {
   "cell_type": "code",
   "execution_count": 3,
   "metadata": {
    "collapsed": true
   },
   "outputs": [],
   "source": [
    "y = np.array([1, 2, 3, 4, 5])"
   ]
  },
  {
   "cell_type": "code",
   "execution_count": 4,
   "metadata": {
    "collapsed": true
   },
   "outputs": [],
   "source": [
    "x1 = np.array([6, 7, 8, 9, 10])"
   ]
  },
  {
   "cell_type": "code",
   "execution_count": 5,
   "metadata": {
    "collapsed": true
   },
   "outputs": [],
   "source": [
    "x2 = np.array([11, 12, 13, 14, 15])"
   ]
  },
  {
   "cell_type": "code",
   "execution_count": 6,
   "metadata": {
    "collapsed": false
   },
   "outputs": [],
   "source": [
    "X = np.vstack([np.ones(5), x1, x2, x1*x2]).T"
   ]
  },
  {
   "cell_type": "code",
   "execution_count": 7,
   "metadata": {
    "collapsed": false
   },
   "outputs": [
    {
     "data": {
      "text/plain": [
       "array([[   1.,    6.,   11.,   66.],\n",
       "       [   1.,    7.,   12.,   84.],\n",
       "       [   1.,    8.,   13.,  104.],\n",
       "       [   1.,    9.,   14.,  126.],\n",
       "       [   1.,   10.,   15.,  150.]])"
      ]
     },
     "execution_count": 7,
     "metadata": {},
     "output_type": "execute_result"
    }
   ],
   "source": [
    "X"
   ]
  },
  {
   "cell_type": "code",
   "execution_count": 8,
   "metadata": {
    "collapsed": false
   },
   "outputs": [
    {
     "data": {
      "text/plain": [
       "array([ -5.55555556e-01,   1.88888889e+00,  -8.88888889e-01,\n",
       "        -8.88900666e-16])"
      ]
     },
     "execution_count": 8,
     "metadata": {},
     "output_type": "execute_result"
    }
   ],
   "source": [
    "beta, res, rank, sval = np.linalg.lstsq(X, y)\n",
    "beta"
   ]
  },
  {
   "cell_type": "code",
   "execution_count": 9,
   "metadata": {
    "collapsed": false
   },
   "outputs": [],
   "source": [
    "model = sm.OLS(y, X)\n",
    "result = model.fit()"
   ]
  },
  {
   "cell_type": "code",
   "execution_count": 10,
   "metadata": {
    "collapsed": false
   },
   "outputs": [
    {
     "data": {
      "text/plain": [
       "array([ -5.55555556e-01,   1.88888889e+00,  -8.88888889e-01,\n",
       "        -1.11022302e-15])"
      ]
     },
     "execution_count": 10,
     "metadata": {},
     "output_type": "execute_result"
    }
   ],
   "source": [
    "result.params"
   ]
  },
  {
   "cell_type": "code",
   "execution_count": 11,
   "metadata": {
    "collapsed": true
   },
   "outputs": [],
   "source": [
    "data = {\"y\": y, \"x1\": x1, \"x2\": x2}\n",
    "df_data = pd.DataFrame(data)"
   ]
  },
  {
   "cell_type": "code",
   "execution_count": 12,
   "metadata": {
    "collapsed": true
   },
   "outputs": [],
   "source": [
    "model = smf.ols(\"y ~ 1 + x1 + x2 + x1:x2\", df_data)"
   ]
  },
  {
   "cell_type": "code",
   "execution_count": 13,
   "metadata": {
    "collapsed": true
   },
   "outputs": [],
   "source": [
    "result = model.fit()"
   ]
  },
  {
   "cell_type": "code",
   "execution_count": 14,
   "metadata": {
    "collapsed": false
   },
   "outputs": [
    {
     "data": {
      "text/plain": [
       "Intercept   -5.555556e-01\n",
       "x1           1.888889e+00\n",
       "x2          -8.888889e-01\n",
       "x1:x2       -1.110223e-15\n",
       "dtype: float64"
      ]
     },
     "execution_count": 14,
     "metadata": {},
     "output_type": "execute_result"
    }
   ],
   "source": [
    "result.params"
   ]
  },
  {
   "cell_type": "code",
   "execution_count": 15,
   "metadata": {
    "collapsed": false,
    "scrolled": false
   },
   "outputs": [
    {
     "name": "stdout",
     "output_type": "stream",
     "text": [
      "                            OLS Regression Results                            \n",
      "==============================================================================\n",
      "Dep. Variable:                      y   R-squared:                       1.000\n",
      "Model:                            OLS   Adj. R-squared:                  1.000\n",
      "Method:                 Least Squares   F-statistic:                 7.401e+26\n",
      "Date:                Thu, 18 Aug 2016   Prob (F-statistic):           1.35e-27\n",
      "Time:                        21:06:56   Log-Likelihood:                 145.84\n",
      "No. Observations:                   5   AIC:                            -285.7\n",
      "Df Residuals:                       2   BIC:                            -286.9\n",
      "Df Model:                           2                                         \n",
      "Covariance Type:            nonrobust                                         \n",
      "==============================================================================\n",
      "                 coef    std err          t      P>|t|      [95.0% Conf. Int.]\n",
      "------------------------------------------------------------------------------\n",
      "Intercept     -0.5556   1.87e-13  -2.96e+12      0.000        -0.556    -0.556\n",
      "x1             1.8889   6.99e-13    2.7e+12      0.000         1.889     1.889\n",
      "x2            -0.8889   2.38e-13  -3.73e+12      0.000        -0.889    -0.889\n",
      "x1:x2       -1.11e-15    2.2e-14     -0.051      0.964     -9.56e-14  9.34e-14\n",
      "==============================================================================\n",
      "Omnibus:                          nan   Durbin-Watson:                   0.003\n",
      "Prob(Omnibus):                    nan   Jarque-Bera (JB):                0.645\n",
      "Skew:                           0.375   Prob(JB):                        0.724\n",
      "Kurtosis:                       1.408   Cond. No.                     9.62e+17\n",
      "==============================================================================\n",
      "\n",
      "Warnings:\n",
      "[1] Standard Errors assume that the covariance matrix of the errors is correctly specified.\n",
      "[2] The smallest eigenvalue is 6.68e-32. This might indicate that there are\n",
      "strong multicollinearity problems or that the design matrix is singular.\n"
     ]
    },
    {
     "name": "stderr",
     "output_type": "stream",
     "text": [
      "/home/evil_rabbit/anaconda2/lib/python2.7/site-packages/statsmodels/stats/stattools.py:72: UserWarning: omni_normtest is not valid with less than 8 observations; 5 samples were given.\n",
      "  \"samples were given.\" % int(n))\n"
     ]
    }
   ],
   "source": [
    "print(result.summary())"
   ]
  },
  {
   "cell_type": "code",
   "execution_count": 16,
   "metadata": {
    "collapsed": false
   },
   "outputs": [
    {
     "data": {
      "text/plain": [
       "array([ -5.55555556e-01,   1.88888889e+00,  -8.88888889e-01,\n",
       "        -8.88900666e-16])"
      ]
     },
     "execution_count": 16,
     "metadata": {},
     "output_type": "execute_result"
    }
   ],
   "source": [
    "beta"
   ]
  },
  {
   "cell_type": "code",
   "execution_count": 17,
   "metadata": {
    "collapsed": true
   },
   "outputs": [],
   "source": [
    "from collections import defaultdict"
   ]
  },
  {
   "cell_type": "code",
   "execution_count": 18,
   "metadata": {
    "collapsed": false
   },
   "outputs": [],
   "source": [
    "data = defaultdict(lambda: np.array([1,2,3]))"
   ]
  },
  {
   "cell_type": "code",
   "execution_count": 19,
   "metadata": {
    "collapsed": false
   },
   "outputs": [
    {
     "data": {
      "text/plain": [
       "['Intercept', 'a']"
      ]
     },
     "execution_count": 19,
     "metadata": {},
     "output_type": "execute_result"
    }
   ],
   "source": [
    "patsy.dmatrices(\"y ~ a\", data=data)[1].design_info.term_names"
   ]
  },
  {
   "cell_type": "code",
   "execution_count": 20,
   "metadata": {
    "collapsed": false
   },
   "outputs": [
    {
     "data": {
      "text/plain": [
       "['Intercept', 'a', 'b']"
      ]
     },
     "execution_count": 20,
     "metadata": {},
     "output_type": "execute_result"
    }
   ],
   "source": [
    "patsy.dmatrices(\"y ~ 1 + a + b\", data=data)[1].design_info.term_names"
   ]
  },
  {
   "cell_type": "code",
   "execution_count": 21,
   "metadata": {
    "collapsed": false
   },
   "outputs": [
    {
     "data": {
      "text/plain": [
       "['a', 'b']"
      ]
     },
     "execution_count": 21,
     "metadata": {},
     "output_type": "execute_result"
    }
   ],
   "source": [
    "patsy.dmatrices(\"y ~ -1 + a + b\", data=data)[1].design_info.term_names"
   ]
  },
  {
   "cell_type": "code",
   "execution_count": 22,
   "metadata": {
    "collapsed": false
   },
   "outputs": [
    {
     "data": {
      "text/plain": [
       "['Intercept', 'a', 'b', 'a:b']"
      ]
     },
     "execution_count": 22,
     "metadata": {},
     "output_type": "execute_result"
    }
   ],
   "source": [
    "patsy.dmatrices(\"y ~ a * b\", data=data)[1].design_info.term_names"
   ]
  },
  {
   "cell_type": "code",
   "execution_count": 23,
   "metadata": {
    "collapsed": false
   },
   "outputs": [
    {
     "data": {
      "text/plain": [
       "['Intercept', 'a', 'b', 'a:b', 'c', 'a:c', 'b:c', 'a:b:c']"
      ]
     },
     "execution_count": 23,
     "metadata": {},
     "output_type": "execute_result"
    }
   ],
   "source": [
    "patsy.dmatrices(\"y ~ a * b * c\", data=data)[1].design_info.term_names"
   ]
  },
  {
   "cell_type": "code",
   "execution_count": 24,
   "metadata": {
    "collapsed": false
   },
   "outputs": [
    {
     "data": {
      "text/plain": [
       "['Intercept', 'a', 'b', 'a:b', 'c', 'a:c', 'b:c']"
      ]
     },
     "execution_count": 24,
     "metadata": {},
     "output_type": "execute_result"
    }
   ],
   "source": [
    "patsy.dmatrices(\"y ~ a * b * c - a:b:c\", data=data)[1].design_info.term_names"
   ]
  },
  {
   "cell_type": "code",
   "execution_count": 25,
   "metadata": {
    "collapsed": false
   },
   "outputs": [],
   "source": [
    "data = {k: np.array([]) for k in [\"y\", \"a\", \"b\", \"c\"]}"
   ]
  },
  {
   "cell_type": "code",
   "execution_count": 26,
   "metadata": {
    "collapsed": false
   },
   "outputs": [
    {
     "data": {
      "text/plain": [
       "['Intercept', 'a', 'b']"
      ]
     },
     "execution_count": 26,
     "metadata": {},
     "output_type": "execute_result"
    }
   ],
   "source": [
    "patsy.dmatrices(\"y ~ a + b\", data=data)[1].design_info.term_names"
   ]
  },
  {
   "cell_type": "code",
   "execution_count": 27,
   "metadata": {
    "collapsed": false
   },
   "outputs": [
    {
     "data": {
      "text/plain": [
       "['Intercept', 'I(a + b)']"
      ]
     },
     "execution_count": 27,
     "metadata": {},
     "output_type": "execute_result"
    }
   ],
   "source": [
    "patsy.dmatrices(\"y ~ I(a + b)\", data=data)[1].design_info.term_names"
   ]
  },
  {
   "cell_type": "code",
   "execution_count": 28,
   "metadata": {
    "collapsed": false
   },
   "outputs": [
    {
     "data": {
      "text/plain": [
       "['Intercept', 'I(a ** 2)']"
      ]
     },
     "execution_count": 28,
     "metadata": {},
     "output_type": "execute_result"
    }
   ],
   "source": [
    "patsy.dmatrices(\"y ~ I(a**2)\", data=data)[1].design_info.term_names"
   ]
  },
  {
   "cell_type": "code",
   "execution_count": 29,
   "metadata": {
    "collapsed": false
   },
   "outputs": [
    {
     "data": {
      "text/plain": [
       "['Intercept', 'np.log(a)', 'b']"
      ]
     },
     "execution_count": 29,
     "metadata": {},
     "output_type": "execute_result"
    }
   ],
   "source": [
    "patsy.dmatrices(\"y ~ np.log(a) + b\", data=data)[1].design_info.term_names"
   ]
  },
  {
   "cell_type": "code",
   "execution_count": 30,
   "metadata": {
    "collapsed": true
   },
   "outputs": [],
   "source": [
    "z = lambda x1, x2: x1+x2"
   ]
  },
  {
   "cell_type": "code",
   "execution_count": 31,
   "metadata": {
    "collapsed": false
   },
   "outputs": [
    {
     "data": {
      "text/plain": [
       "['Intercept', 'z(a, b)']"
      ]
     },
     "execution_count": 31,
     "metadata": {},
     "output_type": "execute_result"
    }
   ],
   "source": [
    "patsy.dmatrices(\"y ~ z(a, b)\", data=data)[1].design_info.term_names"
   ]
  },
  {
   "cell_type": "markdown",
   "metadata": {},
   "source": [
    "### Categorical variables"
   ]
  },
  {
   "cell_type": "code",
   "execution_count": 32,
   "metadata": {
    "collapsed": false
   },
   "outputs": [],
   "source": [
    "data = {\"y\": [1, 2, 3], \"a\": [1, 2, 3]}"
   ]
  },
  {
   "cell_type": "code",
   "execution_count": 33,
   "metadata": {
    "collapsed": false
   },
   "outputs": [
    {
     "data": {
      "text/html": [
       "<div>\n",
       "<table border=\"1\" class=\"dataframe\">\n",
       "  <thead>\n",
       "    <tr style=\"text-align: right;\">\n",
       "      <th></th>\n",
       "      <th>a</th>\n",
       "    </tr>\n",
       "  </thead>\n",
       "  <tbody>\n",
       "    <tr>\n",
       "      <th>0</th>\n",
       "      <td>1.0</td>\n",
       "    </tr>\n",
       "    <tr>\n",
       "      <th>1</th>\n",
       "      <td>2.0</td>\n",
       "    </tr>\n",
       "    <tr>\n",
       "      <th>2</th>\n",
       "      <td>3.0</td>\n",
       "    </tr>\n",
       "  </tbody>\n",
       "</table>\n",
       "</div>"
      ],
      "text/plain": [
       "     a\n",
       "0  1.0\n",
       "1  2.0\n",
       "2  3.0"
      ]
     },
     "execution_count": 33,
     "metadata": {},
     "output_type": "execute_result"
    }
   ],
   "source": [
    "patsy.dmatrices(\"y ~ - 1 + a\", data=data, return_type=\"dataframe\")[1]"
   ]
  },
  {
   "cell_type": "code",
   "execution_count": 34,
   "metadata": {
    "collapsed": false
   },
   "outputs": [
    {
     "data": {
      "text/html": [
       "<div>\n",
       "<table border=\"1\" class=\"dataframe\">\n",
       "  <thead>\n",
       "    <tr style=\"text-align: right;\">\n",
       "      <th></th>\n",
       "      <th>C(a)[1]</th>\n",
       "      <th>C(a)[2]</th>\n",
       "      <th>C(a)[3]</th>\n",
       "    </tr>\n",
       "  </thead>\n",
       "  <tbody>\n",
       "    <tr>\n",
       "      <th>0</th>\n",
       "      <td>1.0</td>\n",
       "      <td>0.0</td>\n",
       "      <td>0.0</td>\n",
       "    </tr>\n",
       "    <tr>\n",
       "      <th>1</th>\n",
       "      <td>0.0</td>\n",
       "      <td>1.0</td>\n",
       "      <td>0.0</td>\n",
       "    </tr>\n",
       "    <tr>\n",
       "      <th>2</th>\n",
       "      <td>0.0</td>\n",
       "      <td>0.0</td>\n",
       "      <td>1.0</td>\n",
       "    </tr>\n",
       "  </tbody>\n",
       "</table>\n",
       "</div>"
      ],
      "text/plain": [
       "   C(a)[1]  C(a)[2]  C(a)[3]\n",
       "0      1.0      0.0      0.0\n",
       "1      0.0      1.0      0.0\n",
       "2      0.0      0.0      1.0"
      ]
     },
     "execution_count": 34,
     "metadata": {},
     "output_type": "execute_result"
    }
   ],
   "source": [
    "patsy.dmatrices(\"y ~ - 1 + C(a)\", data=data, return_type=\"dataframe\")[1]"
   ]
  },
  {
   "cell_type": "code",
   "execution_count": 35,
   "metadata": {
    "collapsed": true
   },
   "outputs": [],
   "source": [
    "data = {\"y\": [1, 2, 3], \"a\": [\"type A\", \"type B\", \"type C\"]}"
   ]
  },
  {
   "cell_type": "code",
   "execution_count": 36,
   "metadata": {
    "collapsed": false
   },
   "outputs": [
    {
     "data": {
      "text/html": [
       "<div>\n",
       "<table border=\"1\" class=\"dataframe\">\n",
       "  <thead>\n",
       "    <tr style=\"text-align: right;\">\n",
       "      <th></th>\n",
       "      <th>a[type A]</th>\n",
       "      <th>a[type B]</th>\n",
       "      <th>a[type C]</th>\n",
       "    </tr>\n",
       "  </thead>\n",
       "  <tbody>\n",
       "    <tr>\n",
       "      <th>0</th>\n",
       "      <td>1.0</td>\n",
       "      <td>0.0</td>\n",
       "      <td>0.0</td>\n",
       "    </tr>\n",
       "    <tr>\n",
       "      <th>1</th>\n",
       "      <td>0.0</td>\n",
       "      <td>1.0</td>\n",
       "      <td>0.0</td>\n",
       "    </tr>\n",
       "    <tr>\n",
       "      <th>2</th>\n",
       "      <td>0.0</td>\n",
       "      <td>0.0</td>\n",
       "      <td>1.0</td>\n",
       "    </tr>\n",
       "  </tbody>\n",
       "</table>\n",
       "</div>"
      ],
      "text/plain": [
       "   a[type A]  a[type B]  a[type C]\n",
       "0        1.0        0.0        0.0\n",
       "1        0.0        1.0        0.0\n",
       "2        0.0        0.0        1.0"
      ]
     },
     "execution_count": 36,
     "metadata": {},
     "output_type": "execute_result"
    }
   ],
   "source": [
    "patsy.dmatrices(\"y ~ - 1 + a\", data=data, return_type=\"dataframe\")[1]"
   ]
  },
  {
   "cell_type": "code",
   "execution_count": 37,
   "metadata": {
    "collapsed": false
   },
   "outputs": [
    {
     "data": {
      "text/html": [
       "<div>\n",
       "<table border=\"1\" class=\"dataframe\">\n",
       "  <thead>\n",
       "    <tr style=\"text-align: right;\">\n",
       "      <th></th>\n",
       "      <th>C(a, Poly).Constant</th>\n",
       "      <th>C(a, Poly).Linear</th>\n",
       "      <th>C(a, Poly).Quadratic</th>\n",
       "    </tr>\n",
       "  </thead>\n",
       "  <tbody>\n",
       "    <tr>\n",
       "      <th>0</th>\n",
       "      <td>1.0</td>\n",
       "      <td>-7.071068e-01</td>\n",
       "      <td>0.408248</td>\n",
       "    </tr>\n",
       "    <tr>\n",
       "      <th>1</th>\n",
       "      <td>1.0</td>\n",
       "      <td>-4.433780e-17</td>\n",
       "      <td>-0.816497</td>\n",
       "    </tr>\n",
       "    <tr>\n",
       "      <th>2</th>\n",
       "      <td>1.0</td>\n",
       "      <td>7.071068e-01</td>\n",
       "      <td>0.408248</td>\n",
       "    </tr>\n",
       "  </tbody>\n",
       "</table>\n",
       "</div>"
      ],
      "text/plain": [
       "   C(a, Poly).Constant  C(a, Poly).Linear  C(a, Poly).Quadratic\n",
       "0                  1.0      -7.071068e-01              0.408248\n",
       "1                  1.0      -4.433780e-17             -0.816497\n",
       "2                  1.0       7.071068e-01              0.408248"
      ]
     },
     "execution_count": 37,
     "metadata": {},
     "output_type": "execute_result"
    }
   ],
   "source": [
    "patsy.dmatrices(\"y ~ - 1 + C(a, Poly)\", data=data, return_type=\"dataframe\")[1]"
   ]
  },
  {
   "cell_type": "markdown",
   "metadata": {},
   "source": [
    "## 2. Linear regression"
   ]
  },
  {
   "cell_type": "code",
   "execution_count": 38,
   "metadata": {
    "collapsed": true
   },
   "outputs": [],
   "source": [
    "np.random.seed(123456789)"
   ]
  },
  {
   "cell_type": "code",
   "execution_count": 39,
   "metadata": {
    "collapsed": true
   },
   "outputs": [],
   "source": [
    "N = 100"
   ]
  },
  {
   "cell_type": "code",
   "execution_count": 40,
   "metadata": {
    "collapsed": true
   },
   "outputs": [],
   "source": [
    "x1 = np.random.randn(N)"
   ]
  },
  {
   "cell_type": "code",
   "execution_count": 41,
   "metadata": {
    "collapsed": true
   },
   "outputs": [],
   "source": [
    "x2 = np.random.randn(N)"
   ]
  },
  {
   "cell_type": "code",
   "execution_count": 42,
   "metadata": {
    "collapsed": false
   },
   "outputs": [],
   "source": [
    "data = pd.DataFrame({\"x1\": x1, \"x2\": x2})"
   ]
  },
  {
   "cell_type": "code",
   "execution_count": 43,
   "metadata": {
    "collapsed": true
   },
   "outputs": [],
   "source": [
    "def y_true(x1, x2):\n",
    "    return 1  + 2 * x1 + 3 * x2 + 4 * x1 * x2"
   ]
  },
  {
   "cell_type": "code",
   "execution_count": 44,
   "metadata": {
    "collapsed": false
   },
   "outputs": [],
   "source": [
    "data[\"y_true\"] = y_true(x1, x2)"
   ]
  },
  {
   "cell_type": "code",
   "execution_count": 45,
   "metadata": {
    "collapsed": true
   },
   "outputs": [],
   "source": [
    "e = np.random.randn(N)"
   ]
  },
  {
   "cell_type": "code",
   "execution_count": 46,
   "metadata": {
    "collapsed": true
   },
   "outputs": [],
   "source": [
    "data[\"y\"] = data[\"y_true\"] + e"
   ]
  },
  {
   "cell_type": "code",
   "execution_count": 47,
   "metadata": {
    "collapsed": false
   },
   "outputs": [
    {
     "data": {
      "text/html": [
       "<div>\n",
       "<table border=\"1\" class=\"dataframe\">\n",
       "  <thead>\n",
       "    <tr style=\"text-align: right;\">\n",
       "      <th></th>\n",
       "      <th>x1</th>\n",
       "      <th>x2</th>\n",
       "      <th>y_true</th>\n",
       "      <th>y</th>\n",
       "    </tr>\n",
       "  </thead>\n",
       "  <tbody>\n",
       "    <tr>\n",
       "      <th>0</th>\n",
       "      <td>2.212902</td>\n",
       "      <td>-0.474588</td>\n",
       "      <td>-0.198823</td>\n",
       "      <td>-1.452775</td>\n",
       "    </tr>\n",
       "    <tr>\n",
       "      <th>1</th>\n",
       "      <td>2.128398</td>\n",
       "      <td>-1.524772</td>\n",
       "      <td>-12.298805</td>\n",
       "      <td>-12.560965</td>\n",
       "    </tr>\n",
       "    <tr>\n",
       "      <th>2</th>\n",
       "      <td>1.841711</td>\n",
       "      <td>-1.939271</td>\n",
       "      <td>-15.420705</td>\n",
       "      <td>-14.715090</td>\n",
       "    </tr>\n",
       "    <tr>\n",
       "      <th>3</th>\n",
       "      <td>0.082382</td>\n",
       "      <td>0.345148</td>\n",
       "      <td>2.313945</td>\n",
       "      <td>1.190283</td>\n",
       "    </tr>\n",
       "    <tr>\n",
       "      <th>4</th>\n",
       "      <td>0.858964</td>\n",
       "      <td>-0.621523</td>\n",
       "      <td>-1.282107</td>\n",
       "      <td>0.307772</td>\n",
       "    </tr>\n",
       "  </tbody>\n",
       "</table>\n",
       "</div>"
      ],
      "text/plain": [
       "         x1        x2     y_true          y\n",
       "0  2.212902 -0.474588  -0.198823  -1.452775\n",
       "1  2.128398 -1.524772 -12.298805 -12.560965\n",
       "2  1.841711 -1.939271 -15.420705 -14.715090\n",
       "3  0.082382  0.345148   2.313945   1.190283\n",
       "4  0.858964 -0.621523  -1.282107   0.307772"
      ]
     },
     "execution_count": 47,
     "metadata": {},
     "output_type": "execute_result"
    }
   ],
   "source": [
    "data.head()"
   ]
  },
  {
   "cell_type": "code",
   "execution_count": 48,
   "metadata": {
    "collapsed": false
   },
   "outputs": [
    {
     "data": {
      "image/png": "[encoded data removed]",
      "text/plain": [
       "<matplotlib.figure.Figure at 0x7fa2bc35ded0>"
      ]
     },
     "metadata": {},
     "output_type": "display_data"
    }
   ],
   "source": [
    "fig, axes = plt.subplots(1, 2, figsize=(8, 4))\n",
    "\n",
    "axes[0].scatter(data[\"x1\"], data[\"y\"])\n",
    "axes[1].scatter(data[\"x2\"], data[\"y\"])\n",
    "\n",
    "fig.tight_layout()"
   ]
  },
  {
   "cell_type": "code",
   "execution_count": 49,
   "metadata": {
    "collapsed": false
   },
   "outputs": [
    {
     "data": {
      "text/plain": [
       "(100, 4)"
      ]
     },
     "execution_count": 49,
     "metadata": {},
     "output_type": "execute_result"
    }
   ],
   "source": [
    "data.shape"
   ]
  },
  {
   "cell_type": "code",
   "execution_count": 50,
   "metadata": {
    "collapsed": false
   },
   "outputs": [],
   "source": [
    "model = smf.ols(\"y ~ x1 + x2\", data)"
   ]
  },
  {
   "cell_type": "code",
   "execution_count": 51,
   "metadata": {
    "collapsed": true
   },
   "outputs": [],
   "source": [
    "result = model.fit()"
   ]
  },
  {
   "cell_type": "code",
   "execution_count": 52,
   "metadata": {
    "collapsed": false
   },
   "outputs": [
    {
     "name": "stdout",
     "output_type": "stream",
     "text": [
      "                            OLS Regression Results                            \n",
      "==============================================================================\n",
      "Dep. Variable:                      y   R-squared:                       0.380\n",
      "Model:                            OLS   Adj. R-squared:                  0.367\n",
      "Method:                 Least Squares   F-statistic:                     29.76\n",
      "Date:                Thu, 18 Aug 2016   Prob (F-statistic):           8.36e-11\n",
      "Time:                        21:08:19   Log-Likelihood:                -271.52\n",
      "No. Observations:                 100   AIC:                             549.0\n",
      "Df Residuals:                      97   BIC:                             556.9\n",
      "Df Model:                           2                                         \n",
      "Covariance Type:            nonrobust                                         \n",
      "==============================================================================\n",
      "                 coef    std err          t      P>|t|      [95.0% Conf. Int.]\n",
      "------------------------------------------------------------------------------\n",
      "Intercept      0.9868      0.382      2.581      0.011         0.228     1.746\n",
      "x1             1.0810      0.391      2.766      0.007         0.305     1.857\n",
      "x2             3.0793      0.432      7.134      0.000         2.223     3.936\n",
      "==============================================================================\n",
      "Omnibus:                       19.951   Durbin-Watson:                   1.682\n",
      "Prob(Omnibus):                  0.000   Jarque-Bera (JB):               49.964\n",
      "Skew:                          -0.660   Prob(JB):                     1.41e-11\n",
      "Kurtosis:                       6.201   Cond. No.                         1.32\n",
      "==============================================================================\n",
      "\n",
      "Warnings:\n",
      "[1] Standard Errors assume that the covariance matrix of the errors is correctly specified.\n"
     ]
    }
   ],
   "source": [
    "print(result.summary())"
   ]
  },
  {
   "cell_type": "code",
   "execution_count": 53,
   "metadata": {
    "collapsed": false
   },
   "outputs": [
    {
     "data": {
      "text/plain": [
       "0.38025383255132539"
      ]
     },
     "execution_count": 53,
     "metadata": {},
     "output_type": "execute_result"
    }
   ],
   "source": [
    "result.rsquared"
   ]
  },
  {
   "cell_type": "code",
   "execution_count": 54,
   "metadata": {
    "collapsed": false
   },
   "outputs": [
    {
     "data": {
      "text/plain": [
       "0    -3.370455\n",
       "1   -11.153477\n",
       "2   -11.721319\n",
       "3    -0.948410\n",
       "4     0.306215\n",
       "dtype: float64"
      ]
     },
     "execution_count": 54,
     "metadata": {},
     "output_type": "execute_result"
    }
   ],
   "source": [
    "result.resid.head()"
   ]
  },
  {
   "cell_type": "code",
   "execution_count": 55,
   "metadata": {
    "collapsed": false
   },
   "outputs": [],
   "source": [
    "z, p = stats.normaltest(result.resid.values)"
   ]
  },
  {
   "cell_type": "code",
   "execution_count": 56,
   "metadata": {
    "collapsed": false
   },
   "outputs": [
    {
     "data": {
      "text/plain": [
       "4.6524990253009038e-05"
      ]
     },
     "execution_count": 56,
     "metadata": {},
     "output_type": "execute_result"
    }
   ],
   "source": [
    "p"
   ]
  },
  {
   "cell_type": "code",
   "execution_count": 57,
   "metadata": {
    "collapsed": false
   },
   "outputs": [
    {
     "data": {
      "text/plain": [
       "Intercept    0.986826\n",
       "x1           1.081044\n",
       "x2           3.079284\n",
       "dtype: float64"
      ]
     },
     "execution_count": 57,
     "metadata": {},
     "output_type": "execute_result"
    }
   ],
   "source": [
    "result.params"
   ]
  },
  {
   "cell_type": "code",
   "execution_count": 58,
   "metadata": {
    "collapsed": false
   },
   "outputs": [
    {
     "data": {
      "image/png": "[encoded data removed]",
      "text/plain": [
       "<matplotlib.figure.Figure at 0x7fa288296d10>"
      ]
     },
     "metadata": {},
     "output_type": "display_data"
    }
   ],
   "source": [
    "fig, ax = plt.subplots(figsize=(8, 4))\n",
    "smg.qqplot(result.resid, ax=ax)\n",
    "\n",
    "fig.tight_layout()"
   ]
  },
  {
   "cell_type": "code",
   "execution_count": 59,
   "metadata": {
    "collapsed": true
   },
   "outputs": [],
   "source": [
    "model = smf.ols(\"y ~ x1 + x2 + x1:x2\", data)"
   ]
  },
  {
   "cell_type": "code",
   "execution_count": 60,
   "metadata": {
    "collapsed": true
   },
   "outputs": [],
   "source": [
    "result = model.fit()"
   ]
  },
  {
   "cell_type": "code",
   "execution_count": 61,
   "metadata": {
    "collapsed": false
   },
   "outputs": [
    {
     "name": "stdout",
     "output_type": "stream",
     "text": [
      "                            OLS Regression Results                            \n",
      "==============================================================================\n",
      "Dep. Variable:                      y   R-squared:                       0.955\n",
      "Model:                            OLS   Adj. R-squared:                  0.954\n",
      "Method:                 Least Squares   F-statistic:                     684.5\n",
      "Date:                Thu, 18 Aug 2016   Prob (F-statistic):           1.21e-64\n",
      "Time:                        21:08:32   Log-Likelihood:                -140.01\n",
      "No. Observations:                 100   AIC:                             288.0\n",
      "Df Residuals:                      96   BIC:                             298.4\n",
      "Df Model:                           3                                         \n",
      "Covariance Type:            nonrobust                                         \n",
      "==============================================================================\n",
      "                 coef    std err          t      P>|t|      [95.0% Conf. Int.]\n",
      "------------------------------------------------------------------------------\n",
      "Intercept      0.8706      0.103      8.433      0.000         0.666     1.076\n",
      "x1             1.9693      0.108     18.160      0.000         1.754     2.185\n",
      "x2             2.9670      0.117     25.466      0.000         2.736     3.198\n",
      "x1:x2          3.9440      0.112     35.159      0.000         3.721     4.167\n",
      "==============================================================================\n",
      "Omnibus:                        2.950   Durbin-Watson:                   2.072\n",
      "Prob(Omnibus):                  0.229   Jarque-Bera (JB):                2.734\n",
      "Skew:                           0.327   Prob(JB):                        0.255\n",
      "Kurtosis:                       2.521   Cond. No.                         1.38\n",
      "==============================================================================\n",
      "\n",
      "Warnings:\n",
      "[1] Standard Errors assume that the covariance matrix of the errors is correctly specified.\n"
     ]
    }
   ],
   "source": [
    "print(result.summary())"
   ]
  },
  {
   "cell_type": "code",
   "execution_count": 62,
   "metadata": {
    "collapsed": false
   },
   "outputs": [
    {
     "data": {
      "text/plain": [
       "Intercept    0.870620\n",
       "x1           1.969345\n",
       "x2           2.967004\n",
       "x1:x2        3.943993\n",
       "dtype: float64"
      ]
     },
     "execution_count": 62,
     "metadata": {},
     "output_type": "execute_result"
    }
   ],
   "source": [
    "result.params"
   ]
  },
  {
   "cell_type": "code",
   "execution_count": 63,
   "metadata": {
    "collapsed": false
   },
   "outputs": [
    {
     "data": {
      "text/plain": [
       "0.95533937458843676"
      ]
     },
     "execution_count": 63,
     "metadata": {},
     "output_type": "execute_result"
    }
   ],
   "source": [
    "result.rsquared"
   ]
  },
  {
   "cell_type": "code",
   "execution_count": 64,
   "metadata": {
    "collapsed": true
   },
   "outputs": [],
   "source": [
    "z, p = stats.normaltest(result.resid.values)"
   ]
  },
  {
   "cell_type": "code",
   "execution_count": 65,
   "metadata": {
    "collapsed": false
   },
   "outputs": [
    {
     "data": {
      "text/plain": [
       "0.22874710482505148"
      ]
     },
     "execution_count": 65,
     "metadata": {},
     "output_type": "execute_result"
    }
   ],
   "source": [
    "p"
   ]
  },
  {
   "cell_type": "code",
   "execution_count": 66,
   "metadata": {
    "collapsed": false
   },
   "outputs": [
    {
     "data": {
      "image/png": "[encoded data removed]",
      "text/plain": [
       "<matplotlib.figure.Figure at 0x7fa287c45110>"
      ]
     },
     "metadata": {},
     "output_type": "display_data"
    }
   ],
   "source": [
    "fig, ax = plt.subplots(figsize=(8, 4))\n",
    "smg.qqplot(result.resid, ax=ax)\n",
    "\n",
    "fig.tight_layout()"
   ]
  },
  {
   "cell_type": "code",
   "execution_count": 67,
   "metadata": {
    "collapsed": true
   },
   "outputs": [],
   "source": [
    "x = np.linspace(-1, 1, 50)"
   ]
  },
  {
   "cell_type": "code",
   "execution_count": 68,
   "metadata": {
    "collapsed": true
   },
   "outputs": [],
   "source": [
    "X1, X2 = np.meshgrid(x, x)"
   ]
  },
  {
   "cell_type": "code",
   "execution_count": 69,
   "metadata": {
    "collapsed": false
   },
   "outputs": [],
   "source": [
    "new_data = pd.DataFrame({\"x1\": X1.ravel(), \"x2\": X2.ravel()})"
   ]
  },
  {
   "cell_type": "code",
   "execution_count": 70,
   "metadata": {
    "collapsed": false
   },
   "outputs": [],
   "source": [
    "y_pred = result.predict(new_data)"
   ]
  },
  {
   "cell_type": "code",
   "execution_count": 71,
   "metadata": {
    "collapsed": false
   },
   "outputs": [
    {
     "data": {
      "text/plain": [
       "(2500,)"
      ]
     },
     "execution_count": 71,
     "metadata": {},
     "output_type": "execute_result"
    }
   ],
   "source": [
    "y_pred.shape"
   ]
  },
  {
   "cell_type": "code",
   "execution_count": 72,
   "metadata": {
    "collapsed": true
   },
   "outputs": [],
   "source": [
    "y_pred = y_pred.reshape(50, 50)"
   ]
  },
  {
   "cell_type": "code",
   "execution_count": 73,
   "metadata": {
    "collapsed": false
   },
   "outputs": [
    {
     "data": {
      "image/png": "[encoded data removed]",
      "text/plain": [
       "<matplotlib.figure.Figure at 0x7fa28768cc90>"
      ]
     },
     "metadata": {},
     "output_type": "display_data"
    }
   ],
   "source": [
    "fig, axes = plt.subplots(1, 2, figsize=(12, 5), sharey=True)\n",
    "\n",
    "def plot_y_contour(ax, Y, title):\n",
    "    c = ax.contourf(X1, X2, Y, 15, cmap=plt.cm.RdBu)\n",
    "    ax.set_xlabel(r\"$x_1$\", fontsize=20)\n",
    "    ax.set_ylabel(r\"$x_2$\", fontsize=20)\n",
    "    ax.set_title(title)\n",
    "    cb = fig.colorbar(c, ax=ax)\n",
    "    cb.set_label(r\"$y$\", fontsize=20)\n",
    "\n",
    "plot_y_contour(axes[0], y_true(X1, X2), \"true relation\")\n",
    "plot_y_contour(axes[1], y_pred, \"fitted model\")\n",
    "\n",
    "fig.tight_layout()\n"
   ]
  },
  {
   "cell_type": "markdown",
   "metadata": {},
   "source": [
    "### Datasets from R"
   ]
  },
  {
   "cell_type": "code",
   "execution_count": 4,
   "metadata": {
    "collapsed": false
   },
   "outputs": [],
   "source": [
    "dataset = sm.datasets.get_rdataset(\"Icecream\", \"Ecdat\")"
   ]
  },
  {
   "cell_type": "code",
   "execution_count": 5,
   "metadata": {
    "collapsed": false
   },
   "outputs": [
    {
     "data": {
      "text/plain": [
       "'Ice Cream Consumption'"
      ]
     },
     "execution_count": 5,
     "metadata": {},
     "output_type": "execute_result"
    }
   ],
   "source": [
    "dataset.title"
   ]
  },
  {
   "cell_type": "code",
   "execution_count": 6,
   "metadata": {
    "collapsed": false,
    "scrolled": false
   },
   "outputs": [
    {
     "name": "stdout",
     "output_type": "stream",
     "text": [
      "+------------+-------------------+\n",
      "| Icecream   | R Documentation   |\n",
      "+------------+-------------------+\n",
      "\n",
      "Ice Cream Consumption\n",
      "---------------------\n",
      "\n",
      "Description\n",
      "~~~~~~~~~~~\n",
      "\n",
      "four–weekly observations from 1951–03–18 to 1953–07–11\n",
      "\n",
      "*number of observations* : 30\n",
      "\n",
      "*observation* : country\n",
      "\n",
      "*country* : United States\n",
      "\n",
      "Usage\n",
      "~~~~~\n",
      "\n",
      "::\n",
      "\n",
      "    data(Icecream)\n",
      "\n",
      "Format\n",
      "~~~~~~\n",
      "\n",
      "A time serie containing :\n",
      "\n",
      "cons\n",
      "    consumption of ice cream per head (in pints);\n",
      "\n",
      "income\n",
      "    average family income per week (in US Dollars);\n",
      "\n",
      "price\n",
      "    price of ice cream (per pint);\n",
      "\n",
      "temp\n",
      "    average temperature (in Fahrenheit);\n",
      "\n",
      "Source\n",
      "~~~~~~\n",
      "\n",
      "Hildreth, C. and J. Lu (1960) *Demand relations with autocorrelated\n",
      "disturbances*, Technical Bulletin No 2765, Michigan State University.\n",
      "\n",
      "References\n",
      "~~~~~~~~~~\n",
      "\n",
      "Verbeek, Marno (2004) *A guide to modern econometrics*, John Wiley and\n",
      "Sons,\n",
      "`http://www.econ.kuleuven.ac.be/GME <http://www.econ.kuleuven.ac.be/GME>`__,\n",
      "chapter 4.\n",
      "\n",
      "See Also\n",
      "~~~~~~~~\n",
      "\n",
      "``Index.Source``, ``Index.Economics``, ``Index.Econometrics``,\n",
      "``Index.Observations``,\n",
      "\n",
      "``Index.Time.Series``\n",
      "\n"
     ]
    }
   ],
   "source": [
    "print(dataset.__doc__)"
   ]
  },
  {
   "cell_type": "code",
   "execution_count": 77,
   "metadata": {
    "collapsed": false
   },
   "outputs": [
    {
     "name": "stdout",
     "output_type": "stream",
     "text": [
      "<class 'pandas.core.frame.DataFrame'>\n",
      "RangeIndex: 30 entries, 0 to 29\n",
      "Data columns (total 4 columns):\n",
      "cons      30 non-null float64\n",
      "income    30 non-null int64\n",
      "price     30 non-null float64\n",
      "temp      30 non-null int64\n",
      "dtypes: float64(2), int64(2)\n",
      "memory usage: 1.0 KB\n"
     ]
    }
   ],
   "source": [
    "dataset.data.info()"
   ]
  },
  {
   "cell_type": "code",
   "execution_count": 78,
   "metadata": {
    "collapsed": false
   },
   "outputs": [],
   "source": [
    "model = smf.ols(\"cons ~ -1 + price + temp\", data=dataset.data)"
   ]
  },
  {
   "cell_type": "code",
   "execution_count": 79,
   "metadata": {
    "collapsed": true
   },
   "outputs": [],
   "source": [
    "result = model.fit()"
   ]
  },
  {
   "cell_type": "code",
   "execution_count": 80,
   "metadata": {
    "collapsed": false
   },
   "outputs": [
    {
     "name": "stdout",
     "output_type": "stream",
     "text": [
      "                            OLS Regression Results                            \n",
      "==============================================================================\n",
      "Dep. Variable:                   cons   R-squared:                       0.986\n",
      "Model:                            OLS   Adj. R-squared:                  0.985\n",
      "Method:                 Least Squares   F-statistic:                     1001.\n",
      "Date:                Thu, 18 Aug 2016   Prob (F-statistic):           9.03e-27\n",
      "Time:                        21:09:35   Log-Likelihood:                 51.903\n",
      "No. Observations:                  30   AIC:                            -99.81\n",
      "Df Residuals:                      28   BIC:                            -97.00\n",
      "Df Model:                           2                                         \n",
      "Covariance Type:            nonrobust                                         \n",
      "==============================================================================\n",
      "                 coef    std err          t      P>|t|      [95.0% Conf. Int.]\n",
      "------------------------------------------------------------------------------\n",
      "price          0.7254      0.093      7.805      0.000         0.535     0.916\n",
      "temp           0.0032      0.000      6.549      0.000         0.002     0.004\n",
      "==============================================================================\n",
      "Omnibus:                        5.350   Durbin-Watson:                   0.637\n",
      "Prob(Omnibus):                  0.069   Jarque-Bera (JB):                3.675\n",
      "Skew:                           0.776   Prob(JB):                        0.159\n",
      "Kurtosis:                       3.729   Cond. No.                         593.\n",
      "==============================================================================\n",
      "\n",
      "Warnings:\n",
      "[1] Standard Errors assume that the covariance matrix of the errors is correctly specified.\n"
     ]
    }
   ],
   "source": [
    "print(result.summary())"
   ]
  },
  {
   "cell_type": "code",
   "execution_count": 81,
   "metadata": {
    "collapsed": false
   },
   "outputs": [
    {
     "data": {
      "image/png": "[encoded data removed]",
      "text/plain": [
       "<matplotlib.figure.Figure at 0x7fa287b19710>"
      ]
     },
     "metadata": {},
     "output_type": "display_data"
    }
   ],
   "source": [
    "fig, (ax1, ax2) = plt.subplots(1, 2, figsize=(12, 4))\n",
    "\n",
    "smg.plot_fit(result, 0, ax=ax1)\n",
    "smg.plot_fit(result, 1, ax=ax2)\n",
    "\n",
    "fig.tight_layout()"
   ]
  },
  {
   "cell_type": "code",
   "execution_count": 82,
   "metadata": {
    "collapsed": false
   },
   "outputs": [
    {
     "data": {
      "image/png": "[encoded data removed]",
      "text/plain": [
       "<matplotlib.figure.Figure at 0x7fa287c139d0>"
      ]
     },
     "metadata": {},
     "output_type": "display_data"
    }
   ],
   "source": [
    "fig, (ax1, ax2) = plt.subplots(1, 2, figsize=(12, 4))\n",
    "\n",
    "sns.regplot(\"price\", \"cons\", dataset.data, ax=ax1);\n",
    "sns.regplot(\"temp\", \"cons\", dataset.data, ax=ax2);\n",
    "\n",
    "fig.tight_layout()"
   ]
  },
  {
   "cell_type": "markdown",
   "metadata": {},
   "source": [
    "## 3. logistic regression"
   ]
  },
  {
   "cell_type": "code",
   "execution_count": 83,
   "metadata": {
    "collapsed": false
   },
   "outputs": [],
   "source": [
    "df = sm.datasets.get_rdataset(\"iris\").data"
   ]
  },
  {
   "cell_type": "code",
   "execution_count": 84,
   "metadata": {
    "collapsed": false
   },
   "outputs": [
    {
     "name": "stdout",
     "output_type": "stream",
     "text": [
      "<class 'pandas.core.frame.DataFrame'>\n",
      "RangeIndex: 150 entries, 0 to 149\n",
      "Data columns (total 5 columns):\n",
      "Sepal.Length    150 non-null float64\n",
      "Sepal.Width     150 non-null float64\n",
      "Petal.Length    150 non-null float64\n",
      "Petal.Width     150 non-null float64\n",
      "Species         150 non-null object\n",
      "dtypes: float64(4), object(1)\n",
      "memory usage: 5.9+ KB\n"
     ]
    }
   ],
   "source": [
    "df.info()"
   ]
  },
  {
   "cell_type": "code",
   "execution_count": 85,
   "metadata": {
    "collapsed": false
   },
   "outputs": [
    {
     "data": {
      "text/plain": [
       "array(['setosa', 'versicolor', 'virginica'], dtype=object)"
      ]
     },
     "execution_count": 85,
     "metadata": {},
     "output_type": "execute_result"
    }
   ],
   "source": [
    "df.Species.unique()"
   ]
  },
  {
   "cell_type": "code",
   "execution_count": 86,
   "metadata": {
    "collapsed": false
   },
   "outputs": [],
   "source": [
    "df_subset = df[(df.Species == \"versicolor\") | (df.Species == \"virginica\" )].copy()"
   ]
  },
  {
   "cell_type": "code",
   "execution_count": 87,
   "metadata": {
    "collapsed": true
   },
   "outputs": [],
   "source": [
    "df_subset.Species = df_subset.Species.map({\"versicolor\": 1, \"virginica\": 0})"
   ]
  },
  {
   "cell_type": "code",
   "execution_count": 88,
   "metadata": {
    "collapsed": false
   },
   "outputs": [],
   "source": [
    "df_subset.rename(columns={\"Sepal.Length\": \"Sepal_Length\", \"Sepal.Width\": \"Sepal_Width\",\n",
    "                          \"Petal.Length\": \"Petal_Length\", \"Petal.Width\": \"Petal_Width\"}, inplace=True)"
   ]
  },
  {
   "cell_type": "code",
   "execution_count": 89,
   "metadata": {
    "collapsed": false
   },
   "outputs": [
    {
     "data": {
      "text/html": [
       "<div>\n",
       "<table border=\"1\" class=\"dataframe\">\n",
       "  <thead>\n",
       "    <tr style=\"text-align: right;\">\n",
       "      <th></th>\n",
       "      <th>Sepal_Length</th>\n",
       "      <th>Sepal_Width</th>\n",
       "      <th>Petal_Length</th>\n",
       "      <th>Petal_Width</th>\n",
       "      <th>Species</th>\n",
       "    </tr>\n",
       "  </thead>\n",
       "  <tbody>\n",
       "    <tr>\n",
       "      <th>50</th>\n",
       "      <td>7.0</td>\n",
       "      <td>3.2</td>\n",
       "      <td>4.7</td>\n",
       "      <td>1.4</td>\n",
       "      <td>1</td>\n",
       "    </tr>\n",
       "    <tr>\n",
       "      <th>51</th>\n",
       "      <td>6.4</td>\n",
       "      <td>3.2</td>\n",
       "      <td>4.5</td>\n",
       "      <td>1.5</td>\n",
       "      <td>1</td>\n",
       "    </tr>\n",
       "    <tr>\n",
       "      <th>52</th>\n",
       "      <td>6.9</td>\n",
       "      <td>3.1</td>\n",
       "      <td>4.9</td>\n",
       "      <td>1.5</td>\n",
       "      <td>1</td>\n",
       "    </tr>\n",
       "  </tbody>\n",
       "</table>\n",
       "</div>"
      ],
      "text/plain": [
       "    Sepal_Length  Sepal_Width  Petal_Length  Petal_Width  Species\n",
       "50           7.0          3.2           4.7          1.4        1\n",
       "51           6.4          3.2           4.5          1.5        1\n",
       "52           6.9          3.1           4.9          1.5        1"
      ]
     },
     "execution_count": 89,
     "metadata": {},
     "output_type": "execute_result"
    }
   ],
   "source": [
    "df_subset.head(3)"
   ]
  },
  {
   "cell_type": "code",
   "execution_count": 90,
   "metadata": {
    "collapsed": false
   },
   "outputs": [],
   "source": [
    "model = smf.logit(\"Species ~ Sepal_Length + Sepal_Width + Petal_Length + Petal_Width\", data=df_subset)"
   ]
  },
  {
   "cell_type": "code",
   "execution_count": 91,
   "metadata": {
    "collapsed": false
   },
   "outputs": [
    {
     "name": "stdout",
     "output_type": "stream",
     "text": [
      "Optimization terminated successfully.\n",
      "         Current function value: 0.059493\n",
      "         Iterations 12\n"
     ]
    }
   ],
   "source": [
    "result = model.fit()"
   ]
  },
  {
   "cell_type": "code",
   "execution_count": 92,
   "metadata": {
    "collapsed": false
   },
   "outputs": [
    {
     "name": "stdout",
     "output_type": "stream",
     "text": [
      "                           Logit Regression Results                           \n",
      "==============================================================================\n",
      "Dep. Variable:                Species   No. Observations:                  100\n",
      "Model:                          Logit   Df Residuals:                       95\n",
      "Method:                           MLE   Df Model:                            4\n",
      "Date:                Thu, 18 Aug 2016   Pseudo R-squ.:                  0.9142\n",
      "Time:                        21:10:21   Log-Likelihood:                -5.9493\n",
      "converged:                       True   LL-Null:                       -69.315\n",
      "                                        LLR p-value:                 1.947e-26\n",
      "================================================================================\n",
      "                   coef    std err          z      P>|z|      [95.0% Conf. Int.]\n",
      "--------------------------------------------------------------------------------\n",
      "Intercept       42.6378     25.708      1.659      0.097        -7.748    93.024\n",
      "Sepal_Length     2.4652      2.394      1.030      0.303        -2.228     7.158\n",
      "Sepal_Width      6.6809      4.480      1.491      0.136        -2.099    15.461\n",
      "Petal_Length    -9.4294      4.737     -1.990      0.047       -18.714    -0.145\n",
      "Petal_Width    -18.2861      9.743     -1.877      0.061       -37.381     0.809\n",
      "================================================================================\n"
     ]
    }
   ],
   "source": [
    "print(result.summary())"
   ]
  },
  {
   "cell_type": "code",
   "execution_count": 93,
   "metadata": {
    "collapsed": false
   },
   "outputs": [
    {
     "name": "stdout",
     "output_type": "stream",
     "text": [
      "        Logit Marginal Effects       \n",
      "=====================================\n",
      "Dep. Variable:                Species\n",
      "Method:                          dydx\n",
      "At:                           overall\n",
      "================================================================================\n",
      "                  dy/dx    std err          z      P>|z|      [95.0% Conf. Int.]\n",
      "--------------------------------------------------------------------------------\n",
      "Sepal_Length     0.0445      0.038      1.163      0.245        -0.031     0.120\n",
      "Sepal_Width      0.1207      0.064      1.891      0.059        -0.004     0.246\n",
      "Petal_Length    -0.1703      0.057     -2.965      0.003        -0.283    -0.058\n",
      "Petal_Width     -0.3303      0.110     -2.998      0.003        -0.546    -0.114\n",
      "================================================================================\n"
     ]
    }
   ],
   "source": [
    "print(result.get_margeff().summary())"
   ]
  },
  {
   "cell_type": "markdown",
   "metadata": {},
   "source": [
    "**Note:** Sepal_Length and Sepal_Width do not seem to contribute much to predictiveness of the model. "
   ]
  },
  {
   "cell_type": "code",
   "execution_count": 94,
   "metadata": {
    "collapsed": true
   },
   "outputs": [],
   "source": [
    "model = smf.logit(\"Species ~ Petal_Length + Petal_Width\", data=df_subset)"
   ]
  },
  {
   "cell_type": "code",
   "execution_count": 95,
   "metadata": {
    "collapsed": false
   },
   "outputs": [
    {
     "name": "stdout",
     "output_type": "stream",
     "text": [
      "Optimization terminated successfully.\n",
      "         Current function value: 0.102818\n",
      "         Iterations 10\n"
     ]
    }
   ],
   "source": [
    "result = model.fit()"
   ]
  },
  {
   "cell_type": "code",
   "execution_count": 96,
   "metadata": {
    "collapsed": false
   },
   "outputs": [
    {
     "name": "stdout",
     "output_type": "stream",
     "text": [
      "                           Logit Regression Results                           \n",
      "==============================================================================\n",
      "Dep. Variable:                Species   No. Observations:                  100\n",
      "Model:                          Logit   Df Residuals:                       97\n",
      "Method:                           MLE   Df Model:                            2\n",
      "Date:                Thu, 18 Aug 2016   Pseudo R-squ.:                  0.8517\n",
      "Time:                        21:10:33   Log-Likelihood:                -10.282\n",
      "converged:                       True   LL-Null:                       -69.315\n",
      "                                        LLR p-value:                 2.303e-26\n",
      "================================================================================\n",
      "                   coef    std err          z      P>|z|      [95.0% Conf. Int.]\n",
      "--------------------------------------------------------------------------------\n",
      "Intercept       45.2723     13.612      3.326      0.001        18.594    71.951\n",
      "Petal_Length    -5.7545      2.306     -2.496      0.013       -10.274    -1.235\n",
      "Petal_Width    -10.4467      3.756     -2.782      0.005       -17.808    -3.086\n",
      "================================================================================\n"
     ]
    }
   ],
   "source": [
    "print(result.summary())"
   ]
  },
  {
   "cell_type": "code",
   "execution_count": 97,
   "metadata": {
    "collapsed": false
   },
   "outputs": [
    {
     "name": "stdout",
     "output_type": "stream",
     "text": [
      "        Logit Marginal Effects       \n",
      "=====================================\n",
      "Dep. Variable:                Species\n",
      "Method:                          dydx\n",
      "At:                           overall\n",
      "================================================================================\n",
      "                  dy/dx    std err          z      P>|z|      [95.0% Conf. Int.]\n",
      "--------------------------------------------------------------------------------\n",
      "Petal_Length    -0.1736      0.052     -3.347      0.001        -0.275    -0.072\n",
      "Petal_Width     -0.3151      0.068     -4.608      0.000        -0.449    -0.181\n",
      "================================================================================\n"
     ]
    }
   ],
   "source": [
    "print(result.get_margeff().summary())"
   ]
  },
  {
   "cell_type": "code",
   "execution_count": 98,
   "metadata": {
    "collapsed": true
   },
   "outputs": [],
   "source": [
    "params = result.params\n",
    "beta0 = -params['Intercept']/params['Petal_Width']\n",
    "beta1 = -params['Petal_Length']/params['Petal_Width']"
   ]
  },
  {
   "cell_type": "code",
   "execution_count": 99,
   "metadata": {
    "collapsed": false
   },
   "outputs": [],
   "source": [
    "df_new = pd.DataFrame({\"Petal_Length\": np.random.randn(20)*0.5 + 5,\n",
    "                       \"Petal_Width\": np.random.randn(20)*0.5 + 1.7})"
   ]
  },
  {
   "cell_type": "code",
   "execution_count": 100,
   "metadata": {
    "collapsed": true
   },
   "outputs": [],
   "source": [
    "df_new[\"P-Species\"] = result.predict(df_new)"
   ]
  },
  {
   "cell_type": "code",
   "execution_count": 101,
   "metadata": {
    "collapsed": false
   },
   "outputs": [
    {
     "data": {
      "text/plain": [
       "0    0.995472\n",
       "1    0.799899\n",
       "2    0.000033\n",
       "Name: P-Species, dtype: float64"
      ]
     },
     "execution_count": 101,
     "metadata": {},
     "output_type": "execute_result"
    }
   ],
   "source": [
    "df_new[\"P-Species\"].head(3)"
   ]
  },
  {
   "cell_type": "code",
   "execution_count": 102,
   "metadata": {
    "collapsed": false
   },
   "outputs": [],
   "source": [
    "df_new[\"Species\"] = (df_new[\"P-Species\"] > 0.5).astype(int)"
   ]
  },
  {
   "cell_type": "code",
   "execution_count": 103,
   "metadata": {
    "collapsed": false
   },
   "outputs": [
    {
     "data": {
      "text/html": [
       "<div>\n",
       "<table border=\"1\" class=\"dataframe\">\n",
       "  <thead>\n",
       "    <tr style=\"text-align: right;\">\n",
       "      <th></th>\n",
       "      <th>Petal_Length</th>\n",
       "      <th>Petal_Width</th>\n",
       "      <th>P-Species</th>\n",
       "      <th>Species</th>\n",
       "    </tr>\n",
       "  </thead>\n",
       "  <tbody>\n",
       "    <tr>\n",
       "      <th>0</th>\n",
       "      <td>4.717684</td>\n",
       "      <td>1.218695</td>\n",
       "      <td>0.995472</td>\n",
       "      <td>1</td>\n",
       "    </tr>\n",
       "    <tr>\n",
       "      <th>1</th>\n",
       "      <td>5.280952</td>\n",
       "      <td>1.292013</td>\n",
       "      <td>0.799899</td>\n",
       "      <td>1</td>\n",
       "    </tr>\n",
       "    <tr>\n",
       "      <th>2</th>\n",
       "      <td>5.610778</td>\n",
       "      <td>2.230056</td>\n",
       "      <td>0.000033</td>\n",
       "      <td>0</td>\n",
       "    </tr>\n",
       "    <tr>\n",
       "      <th>3</th>\n",
       "      <td>4.458715</td>\n",
       "      <td>1.907844</td>\n",
       "      <td>0.421614</td>\n",
       "      <td>0</td>\n",
       "    </tr>\n",
       "    <tr>\n",
       "      <th>4</th>\n",
       "      <td>4.822227</td>\n",
       "      <td>1.938929</td>\n",
       "      <td>0.061070</td>\n",
       "      <td>0</td>\n",
       "    </tr>\n",
       "  </tbody>\n",
       "</table>\n",
       "</div>"
      ],
      "text/plain": [
       "   Petal_Length  Petal_Width  P-Species  Species\n",
       "0      4.717684     1.218695   0.995472        1\n",
       "1      5.280952     1.292013   0.799899        1\n",
       "2      5.610778     2.230056   0.000033        0\n",
       "3      4.458715     1.907844   0.421614        0\n",
       "4      4.822227     1.938929   0.061070        0"
      ]
     },
     "execution_count": 103,
     "metadata": {},
     "output_type": "execute_result"
    }
   ],
   "source": [
    "df_new.head()"
   ]
  },
  {
   "cell_type": "code",
   "execution_count": 104,
   "metadata": {
    "collapsed": false
   },
   "outputs": [
    {
     "data": {
      "image/png": "[encoded data removed]",
      "text/plain": [
       "<matplotlib.figure.Figure at 0x7fa287b61390>"
      ]
     },
     "metadata": {},
     "output_type": "display_data"
    }
   ],
   "source": [
    "fig, ax = plt.subplots(1, 1, figsize=(8, 4))\n",
    "\n",
    "ax.plot(df_subset[df_subset.Species == 0].Petal_Length.values,\n",
    "        df_subset[df_subset.Species == 0].Petal_Width.values, 's', label='virginica')\n",
    "ax.plot(df_new[df_new.Species == 0].Petal_Length.values,\n",
    "        df_new[df_new.Species == 0].Petal_Width.values,\n",
    "        'o', markersize=10, color=\"steelblue\", label='virginica (pred.)')\n",
    "\n",
    "ax.plot(df_subset[df_subset.Species == 1].Petal_Length.values,\n",
    "        df_subset[df_subset.Species == 1].Petal_Width.values, 's', label='versicolor')\n",
    "ax.plot(df_new[df_new.Species == 1].Petal_Length.values,\n",
    "        df_new[df_new.Species == 1].Petal_Width.values,\n",
    "        'o', markersize=10, color=\"green\", label='versicolor (pred.)')\n",
    "\n",
    "_x = np.array([4.0, 6.1])\n",
    "ax.plot(_x, beta0 + beta1 * _x, 'k')\n",
    "\n",
    "ax.set_xlabel('Petal length')\n",
    "ax.set_ylabel('Petal width')\n",
    "ax.legend(loc=2)\n",
    "fig.tight_layout()"
   ]
  },
  {
   "cell_type": "markdown",
   "metadata": {},
   "source": [
    "## 4. Time series"
   ]
  },
  {
   "cell_type": "code",
   "execution_count": 6,
   "metadata": {
    "collapsed": false
   },
   "outputs": [
    {
     "name": "stderr",
     "output_type": "stream",
     "text": [
      "D:\\Anaconda2\\lib\\site-packages\\ipykernel\\__main__.py:4: FutureWarning: .resample() is now a deferred operation\n",
      "use .resample(...).mean() instead of .resample(...)\n"
     ]
    },
    {
     "data": {
      "text/html": [
       "<div>\n",
       "<table border=\"1\" class=\"dataframe\">\n",
       "  <thead>\n",
       "    <tr style=\"text-align: right;\">\n",
       "      <th></th>\n",
       "      <th>temp</th>\n",
       "    </tr>\n",
       "    <tr>\n",
       "      <th>time</th>\n",
       "      <th></th>\n",
       "    </tr>\n",
       "  </thead>\n",
       "  <tbody>\n",
       "    <tr>\n",
       "      <th>2013-12-31 23:00:00</th>\n",
       "      <td>4.166667</td>\n",
       "    </tr>\n",
       "    <tr>\n",
       "      <th>2014-01-01 00:00:00</th>\n",
       "      <td>3.851667</td>\n",
       "    </tr>\n",
       "    <tr>\n",
       "      <th>2014-01-01 01:00:00</th>\n",
       "      <td>3.610000</td>\n",
       "    </tr>\n",
       "    <tr>\n",
       "      <th>2014-01-01 02:00:00</th>\n",
       "      <td>3.376667</td>\n",
       "    </tr>\n",
       "    <tr>\n",
       "      <th>2014-01-01 03:00:00</th>\n",
       "      <td>3.303333</td>\n",
       "    </tr>\n",
       "  </tbody>\n",
       "</table>\n",
       "</div>"
      ],
      "text/plain": [
       "                         temp\n",
       "time                         \n",
       "2013-12-31 23:00:00  4.166667\n",
       "2014-01-01 00:00:00  3.851667\n",
       "2014-01-01 01:00:00  3.610000\n",
       "2014-01-01 02:00:00  3.376667\n",
       "2014-01-01 03:00:00  3.303333"
      ]
     },
     "execution_count": 6,
     "metadata": {},
     "output_type": "execute_result"
    }
   ],
   "source": [
    "df = pd.read_csv(\"temperature_outdoor_2014.tsv\", header=None, delimiter=\"\\t\", names=[\"time\", \"temp\"])\n",
    "df.time = pd.to_datetime(df.time, unit=\"s\")\n",
    "df = df.set_index(\"time\").resample(\"H\")#.mean()\n",
    "df.head()"
   ]
  },
  {
   "cell_type": "code",
   "execution_count": 5,
   "metadata": {
    "collapsed": false
   },
   "outputs": [],
   "source": [
    "df_march = df[df.index.month == 3]"
   ]
  },
  {
   "cell_type": "code",
   "execution_count": 6,
   "metadata": {
    "collapsed": false
   },
   "outputs": [],
   "source": [
    "df_april = df[df.index.month == 4]"
   ]
  },
  {
   "cell_type": "code",
   "execution_count": 7,
   "metadata": {
    "collapsed": false
   },
   "outputs": [
    {
     "data": {
      "image/png": "[encoded data removed]",
      "text/plain": [
       "<matplotlib.figure.Figure at 0x7fcea5ec1d90>"
      ]
     },
     "metadata": {},
     "output_type": "display_data"
    }
   ],
   "source": [
    "df_march.plot(figsize=(12, 4));"
   ]
  },
  {
   "cell_type": "code",
   "execution_count": 8,
   "metadata": {
    "collapsed": false
   },
   "outputs": [
    {
     "data": {
      "image/png": "[encoded data removed]",
      "text/plain": [
       "<matplotlib.figure.Figure at 0x7fcea5ec1c50>"
      ]
     },
     "metadata": {},
     "output_type": "display_data"
    }
   ],
   "source": [
    "plt.scatter(df_april[1:], df_april[:-1]);"
   ]
  },
  {
   "cell_type": "code",
   "execution_count": 9,
   "metadata": {
    "collapsed": false
   },
   "outputs": [
    {
     "data": {
      "image/png": "[encoded data removed]",
      "text/plain": [
       "<matplotlib.figure.Figure at 0x7fcea5ed32d0>"
      ]
     },
     "metadata": {},
     "output_type": "display_data"
    }
   ],
   "source": [
    "plt.scatter(df_april[2:], df_april[:-2]);"
   ]
  },
  {
   "cell_type": "code",
   "execution_count": 10,
   "metadata": {
    "collapsed": false
   },
   "outputs": [
    {
     "data": {
      "image/png": "[encoded data removed]",
      "text/plain": [
       "<matplotlib.figure.Figure at 0x7fcea5ed36d0>"
      ]
     },
     "metadata": {},
     "output_type": "display_data"
    }
   ],
   "source": [
    "plt.scatter(df_april[24:], df_april[:-24]);"
   ]
  },
  {
   "cell_type": "code",
   "execution_count": 11,
   "metadata": {
    "collapsed": false
   },
   "outputs": [
    {
     "data": {
      "image/png": "[encoded data removed]",
      "text/plain": [
       "<matplotlib.figure.Figure at 0x7fcea379ad50>"
      ]
     },
     "metadata": {},
     "output_type": "display_data"
    }
   ],
   "source": [
    "fig, axes = plt.subplots(1, 4, figsize=(12, 3))\n",
    "smg.tsa.plot_acf(df_march.temp, lags=72, ax=axes[0])\n",
    "smg.tsa.plot_acf(df_march.temp.diff().dropna(), lags=72, ax=axes[1])\n",
    "smg.tsa.plot_acf(df_march.temp.diff().diff().dropna(), lags=72, ax=axes[2])\n",
    "smg.tsa.plot_acf(df_march.temp.diff().diff().diff().dropna(), lags=72, ax=axes[3])\n",
    "fig.tight_layout()"
   ]
  },
  {
   "cell_type": "code",
   "execution_count": 12,
   "metadata": {
    "collapsed": true
   },
   "outputs": [],
   "source": [
    "model = sm.tsa.AR(df_march.temp)"
   ]
  },
  {
   "cell_type": "code",
   "execution_count": 13,
   "metadata": {
    "collapsed": true
   },
   "outputs": [],
   "source": [
    "result = model.fit(72)"
   ]
  },
  {
   "cell_type": "code",
   "execution_count": 14,
   "metadata": {
    "collapsed": false
   },
   "outputs": [
    {
     "data": {
      "text/plain": [
       "1.9985623006352942"
      ]
     },
     "execution_count": 14,
     "metadata": {},
     "output_type": "execute_result"
    }
   ],
   "source": [
    "sm.stats.durbin_watson(result.resid)"
   ]
  },
  {
   "cell_type": "code",
   "execution_count": 15,
   "metadata": {
    "collapsed": false
   },
   "outputs": [
    {
     "data": {
      "image/png": "[encoded data removed]",
      "text/plain": [
       "<matplotlib.figure.Figure at 0x7fcea379a150>"
      ]
     },
     "metadata": {},
     "output_type": "display_data"
    }
   ],
   "source": [
    "fig, ax = plt.subplots(1, 1, figsize=(8, 3))\n",
    "smg.tsa.plot_acf(result.resid, lags=72, ax=ax)\n",
    "fig.tight_layout()"
   ]
  },
  {
   "cell_type": "code",
   "execution_count": 16,
   "metadata": {
    "collapsed": false
   },
   "outputs": [
    {
     "name": "stderr",
     "output_type": "stream",
     "text": [
      "/home/evil_rabbit/anaconda2/lib/python2.7/site-packages/statsmodels/base/data.py:503: FutureWarning: TimeSeries is deprecated. Please use Series\n",
      "  return TimeSeries(result, index=self.predict_dates)\n"
     ]
    },
    {
     "data": {
      "image/png": "[encoded data removed]",
      "text/plain": [
       "<matplotlib.figure.Figure at 0x7fcea38fe690>"
      ]
     },
     "metadata": {},
     "output_type": "display_data"
    }
   ],
   "source": [
    "fig, ax = plt.subplots(1, 1, figsize=(12, 4))\n",
    "ax.plot(df_march.index.values[-72:], df_march.temp.values[-72:], label=\"train data\")\n",
    "ax.plot(df_april.index.values[:72], df_april.temp.values[:72], label=\"actual outcome\")\n",
    "ax.plot(pd.date_range(\"2014-04-01\", \"2014-04-4\", freq=\"H\").values,\n",
    "        result.predict(\"2014-04-01\", \"2014-04-4\"), label=\"predicted outcome\")\n",
    "\n",
    "ax.legend()\n",
    "fig.tight_layout()"
   ]
  },
  {
   "cell_type": "code",
   "execution_count": null,
   "metadata": {
    "collapsed": true
   },
   "outputs": [],
   "source": []
  }
 ],
 "metadata": {
  "anaconda-cloud": {},
  "kernelspec": {
   "display_name": "Python [Root]",
   "language": "python",
   "name": "Python [Root]"
  },
  "language_info": {
   "codemirror_mode": {
    "name": "ipython",
    "version": 2
   },
   "file_extension": ".py",
   "mimetype": "text/x-python",
   "name": "python",
   "nbconvert_exporter": "python",
   "pygments_lexer": "ipython2",
   "version": "2.7.12"
  }
 },
 "nbformat": 4,
 "nbformat_minor": 0
}
